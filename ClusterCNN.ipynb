{
 "cells": [
  {
   "cell_type": "markdown",
   "metadata": {},
   "source": [
    "# Setup"
   ]
  },
  {
   "cell_type": "code",
   "execution_count": 1,
   "metadata": {},
   "outputs": [],
   "source": [
    "import numpy as np\n",
    "import scipy.io as sio\n",
    "import os\n",
    "import time\n",
    "import spectral\n",
    "\n",
    "from sklearn import cluster, metrics\n",
    "from sklearn.preprocessing import scale\n",
    "from sklearn.decomposition import PCA\n",
    "from sklearn.model_selection import train_test_split\n",
    "\n",
    "from tensorflow import keras\n",
    "\n",
    "def createImageCubes(X, y, windowSize=5, removeZeroLabels = True):\n",
    "    margin = int((windowSize - 1) / 2)\n",
    "    zeroPaddedX = np.zeros((X.shape[0] + 2*margin, X.shape[1] + 2*margin, X.shape[2]))\n",
    "    zeroPaddedX[margin:X.shape[0] + margin, margin:X.shape[1] + margin, :] = X\n",
    "    patchesData = np.zeros((X.shape[0] * X.shape[1], windowSize, windowSize, X.shape[2]))\n",
    "    patchesLabels = np.zeros((X.shape[0] * X.shape[1]))\n",
    "    patchIndex = 0\n",
    "    for r in range(margin, zeroPaddedX.shape[0] - margin):\n",
    "        for c in range(margin, zeroPaddedX.shape[1] - margin):\n",
    "            patchesData[patchIndex, :, :, :] = zeroPaddedX[r - margin:r + margin + 1, c - margin:c + margin + 1]   \n",
    "            patchesLabels[patchIndex] = y[r-margin, c-margin]\n",
    "            patchIndex = patchIndex + 1\n",
    "    if removeZeroLabels:\n",
    "        patchesData = patchesData[patchesLabels>0,:,:,:]\n",
    "        patchesLabels = patchesLabels[patchesLabels>0] - 1\n",
    "    return patchesData, patchesLabels\n",
    "\n",
    "def count_FLOPs(model):\n",
    "    FLOPs = 0\n",
    "    for i in range(len(model.layers)):\n",
    "        layer = model.layers[i]\n",
    "        if layer.__class__.__name__ == 'Conv3D':\n",
    "            FLOPs += 2*np.prod(layer.kernel_size[:3])*np.prod(layer.output_shape[1:5])\n",
    "        if layer.__class__.__name__ == 'Conv2D':\n",
    "            FLOPs += 2*np.prod(layer.kernel_size[:2])*layer.input_shape[3]*np.prod(layer.output_shape[1:4])\n",
    "        if layer.__class__.__name__ in ('MaxPooling3D', 'AveragePooling3D'):\n",
    "            FLOPs += np.prod(layer.pool_size[:3])*np.prod(layer.output_shape[1:5])\n",
    "        if layer.__class__.__name__ in ('MaxPooling2D', 'AveragePooling2D'):\n",
    "            FLOPs += np.prod(layer.pool_size[:2])*np.prod(layer.output_shape[1:4])\n",
    "        if layer.__class__.__name__ == 'GlobalAveragePooling3D':\n",
    "            FLOPs += np.prod(layer.input_shape[1:5])\n",
    "        if layer.__class__.__name__ == 'GlobalAveragePooling2D':\n",
    "            FLOPs += np.prod(layer.input_shape[1:4])             \n",
    "        if layer.__class__.__name__ in ('Activation', 'Add', 'Multiply'):\n",
    "            FLOPs += np.prod(layer.output_shape[1:])            \n",
    "        if layer.__class__.__name__ == 'Dense':\n",
    "            FLOPs += 2*layer.input_shape[1]*layer.output_shape[1]          \n",
    "    return FLOPs"
   ]
  },
  {
   "cell_type": "code",
   "execution_count": 2,
   "metadata": {},
   "outputs": [],
   "source": [
    "test_ratio = 0.9\n",
    "patch = 25\n",
    "PCsNum = 15\n",
    "ClusterNum = 16  \n",
    "HSI = sio.loadmat(os.path.join(os.getcwd(),'data/Indian_pines_corrected.mat'))['indian_pines_corrected']\n",
    "GT = sio.loadmat(os.path.join(os.getcwd(),'data/Indian_pines_gt.mat'))['indian_pines_gt']\n",
    "HPCs = PCA(n_components=PCsNum, whiten=True).fit_transform(HSI.reshape(-1, HSI.shape[2])).reshape(HSI.shape[0], HSI.shape[1], PCsNum)"
   ]
  },
  {
   "cell_type": "markdown",
   "metadata": {},
   "source": [
    "# ClusterCNN"
   ]
  },
  {
   "cell_type": "code",
   "execution_count": 3,
   "metadata": {},
   "outputs": [
    {
     "name": "stdout",
     "output_type": "stream",
     "text": [
      "Shape of Clusters: (145, 145, 15) Clustering Time:  0.921875 s.  # of Clusters: 16\n"
     ]
    }
   ],
   "source": [
    "start_time = time.process_time()\n",
    "clusterstack = np.zeros(HPCs.shape)\n",
    "cluster_algorithm = 'minikmeans' # default = 'minikmeans'\n",
    "\n",
    "if cluster_algorithm == 'kmeans':\n",
    "    k_means = cluster.KMeans(n_clusters=ClusterNum).fit(HPCs.reshape((-1, HPCs.shape[2])))\n",
    "    clusterlabel = k_means.labels_.reshape((GT.shape))\n",
    "elif cluster_algorithm == 'spectral':\n",
    "    specluster = cluster.SpectralClustering(n_clusters=ClusterNum).fit(HPCs.reshape((-1, HPCs.shape[2])))\n",
    "    clusterlabel = specluster.labels_.reshape((GT.shape))\n",
    "elif cluster_algorithm == 'density':\n",
    "    dbcluster = cluster.DBSCAN().fit(HPCs.reshape((-1, HPCs.shape[2])))\n",
    "    clusterlabel = dbcluster.labels_.reshape((GT.shape))\n",
    "else:\n",
    "    mbk_means = cluster.MiniBatchKMeans(n_clusters=ClusterNum).fit(HPCs.reshape((-1, HPCs.shape[2])))\n",
    "    clusterlabel = mbk_means.labels_.reshape((GT.shape))\n",
    "\n",
    "for i in range(ClusterNum):\n",
    "    clusterstack[clusterlabel==i]=np.mean(HPCs[clusterlabel==i], axis=0)\n",
    "    \n",
    "timeused = (time.process_time() - start_time)\n",
    "print('Shape of Clusters:', clusterstack.shape, 'Clustering Time: ', timeused, 's.  # of Clusters:', np.max(clusterlabel)+1)"
   ]
  },
  {
   "cell_type": "code",
   "execution_count": 4,
   "metadata": {},
   "outputs": [
    {
     "name": "stdout",
     "output_type": "stream",
     "text": [
      "Model: \"2DCNN_FCs\"\n",
      "_________________________________________________________________\n",
      "Layer (type)                 Output Shape              Param #   \n",
      "=================================================================\n",
      "IL (InputLayer)              [(None, 25, 25, 15)]      0         \n",
      "_________________________________________________________________\n",
      "C1 (Conv2D)                  (None, 21, 21, 64)        24064     \n",
      "_________________________________________________________________\n",
      "max_pooling2d (MaxPooling2D) (None, 10, 10, 64)        0         \n",
      "_________________________________________________________________\n",
      "C2 (Conv2D)                  (None, 8, 8, 64)          36928     \n",
      "_________________________________________________________________\n",
      "max_pooling2d_1 (MaxPooling2 (None, 4, 4, 64)          0         \n",
      "_________________________________________________________________\n",
      "FL (Flatten)                 (None, 1024)              0         \n",
      "_________________________________________________________________\n",
      "D1 (Dense)                   (None, 128)               131200    \n",
      "_________________________________________________________________\n",
      "dropout1 (Dropout)           (None, 128)               0         \n",
      "_________________________________________________________________\n",
      "D2 (Dense)                   (None, 64)                8256      \n",
      "_________________________________________________________________\n",
      "dropout2 (Dropout)           (None, 64)                0         \n",
      "_________________________________________________________________\n",
      "OL (Dense)                   (None, 16)                1040      \n",
      "=================================================================\n",
      "Total params: 201,488\n",
      "Trainable params: 201,488\n",
      "Non-trainable params: 0\n",
      "_________________________________________________________________\n",
      "FLOPs: 26,196,864\n"
     ]
    }
   ],
   "source": [
    "X, y = createImageCubes(clusterstack, GT, windowSize=patch)\n",
    "Xtrain, Xtest, ytrain, ytest = train_test_split(X, y, test_size=test_ratio, random_state=345,stratify=y)\n",
    "ytrain = keras.utils.to_categorical(ytrain)\n",
    "\n",
    "## input layer\n",
    "IL = keras.Input(shape=(patch, patch, PCsNum), name='IL')\n",
    "C1 = keras.layers.Conv2D(filters=64, kernel_size=(5,5), activation='relu', name='C1')(IL)\n",
    "P1 = keras.layers.MaxPool2D()(C1)\n",
    "C2 = keras.layers.Conv2D(filters=64, kernel_size=(3,3), activation='relu', name='C2')(P1) \n",
    "P2 = keras.layers.MaxPool2D()(C2)\n",
    "## flatten\n",
    "FL = keras.layers.Flatten(name='FL')(P2)        \n",
    "## fully connected layers\n",
    "D1 = keras.layers.Dense(units=128, activation='relu', name='D1')(FL)\n",
    "D1 = keras.layers.Dropout(0.4, name='dropout1')(D1)\n",
    "D2 = keras.layers.Dense(units=64, activation='relu', name='D2')(D1)\n",
    "D2 = keras.layers.Dropout(0.4, name='dropout2')(D2)\n",
    "OL = keras.layers.Dense(units=ytrain.shape[1], activation='softmax', name='OL')(D2)\n",
    "        \n",
    "model = keras.models.Model(inputs=IL, outputs=OL, name='2DCNN_FCs')\n",
    "        \n",
    "# compiling the model\n",
    "adam = keras.optimizers.Adam(lr=0.001, decay=1e-06)\n",
    "model.compile(loss='categorical_crossentropy', optimizer=adam, metrics=['accuracy'])\n",
    "\n",
    "model.summary()\n",
    "print('FLOPs:', format(count_FLOPs(model), ','))"
   ]
  },
  {
   "cell_type": "code",
   "execution_count": 5,
   "metadata": {},
   "outputs": [
    {
     "name": "stdout",
     "output_type": "stream",
     "text": [
      "ClusterCNN: 0.9834146341463414 0.981085072060257  Training Time: 25.90625\n"
     ]
    }
   ],
   "source": [
    "start_time = time.process_time()\n",
    "# training\n",
    "model.fit(x=Xtrain, y=ytrain, batch_size=256, epochs=100, verbose=0)\n",
    "training_time = time.process_time()-start_time\n",
    "\n",
    "# predict\n",
    "y_pred = np.argmax(model.predict(Xtest), axis=1)\n",
    "oa = metrics.accuracy_score(ytest, y_pred)\n",
    "kappa = metrics.cohen_kappa_score(ytest, y_pred)\n",
    "\n",
    "print('ClusterCNN:', oa, kappa, ' Training Time:', training_time)"
   ]
  },
  {
   "cell_type": "markdown",
   "metadata": {},
   "source": [
    "# ClusterCNN/"
   ]
  },
  {
   "cell_type": "code",
   "execution_count": 6,
   "metadata": {},
   "outputs": [
    {
     "name": "stdout",
     "output_type": "stream",
     "text": [
      "Shape of Clusters: (145, 145, 16) Clustering Time:  0.96875 s.  # of Clusters: 16\n"
     ]
    }
   ],
   "source": [
    "start_time = time.process_time()\n",
    "clusterstack = np.zeros(HPCs.shape)\n",
    "\n",
    "mbk_means = cluster.MiniBatchKMeans(n_clusters=ClusterNum).fit(HPCs.reshape((-1, HPCs.shape[2])))\n",
    "clusterlabel = mbk_means.labels_.reshape((GT.shape))\n",
    "\n",
    "clusterstack = keras.utils.to_categorical(clusterlabel)\n",
    "    \n",
    "timeused = (time.process_time() - start_time)\n",
    "print('Shape of Clusters:', clusterstack.shape, 'Clustering Time: ', timeused, 's.  # of Clusters:', np.max(clusterlabel)+1)"
   ]
  },
  {
   "cell_type": "code",
   "execution_count": 7,
   "metadata": {},
   "outputs": [
    {
     "name": "stdout",
     "output_type": "stream",
     "text": [
      "ClusterCNN: 0.9805962059620597 0.9778472838954265  Training Time: 25.578125\n"
     ]
    }
   ],
   "source": [
    "X, y = createImageCubes(clusterstack, GT, windowSize=patch)\n",
    "Xtrain, Xtest, ytrain, ytest = train_test_split(X, y, test_size=test_ratio, random_state=345,stratify=y)\n",
    "ytrain = keras.utils.to_categorical(ytrain)\n",
    "\n",
    "## input layer\n",
    "IL = keras.Input(shape=(patch, patch, ClusterNum), name='IL')\n",
    "C1 = keras.layers.Conv2D(filters=64, kernel_size=(5,5), activation='relu', name='C1')(IL)\n",
    "P1 = keras.layers.MaxPool2D()(C1)\n",
    "C2 = keras.layers.Conv2D(filters=64, kernel_size=(3,3), activation='relu', name='C2')(P1) \n",
    "P2 = keras.layers.MaxPool2D()(C2)\n",
    "## flatten\n",
    "FL = keras.layers.Flatten(name='FL')(P2)        \n",
    "## fully connected layers\n",
    "D1 = keras.layers.Dense(units=128, activation='relu', name='D1')(FL)\n",
    "D1 = keras.layers.Dropout(0.4, name='dropout1')(D1)\n",
    "D2 = keras.layers.Dense(units=64, activation='relu', name='D2')(D1)\n",
    "D2 = keras.layers.Dropout(0.4, name='dropout2')(D2)\n",
    "OL = keras.layers.Dense(units=ytrain.shape[1], activation='softmax', name='OL')(D2)\n",
    "        \n",
    "model = keras.models.Model(inputs=IL, outputs=OL, name='2DCNN_FCs')\n",
    "        \n",
    "# compiling the model\n",
    "adam = keras.optimizers.Adam(lr=0.001, decay=1e-06)\n",
    "model.compile(loss='categorical_crossentropy', optimizer=adam, metrics=['accuracy'])\n",
    "\n",
    "start_time = time.process_time()\n",
    "# training\n",
    "model.fit(x=Xtrain, y=ytrain, batch_size=256, epochs=100, verbose=0)\n",
    "training_time = time.process_time()-start_time\n",
    "\n",
    "# predict\n",
    "y_pred = np.argmax(model.predict(Xtest), axis=1)\n",
    "oa = metrics.accuracy_score(ytest, y_pred)\n",
    "kappa = metrics.cohen_kappa_score(ytest, y_pred)\n",
    "\n",
    "print('ClusterCNN:', oa, kappa, ' Training Time:', training_time)"
   ]
  },
  {
   "cell_type": "markdown",
   "metadata": {},
   "source": [
    "# UnmixingCNN"
   ]
  },
  {
   "cell_type": "markdown",
   "metadata": {},
   "source": [
    "Use the abandunt map as the material map. "
   ]
  },
  {
   "cell_type": "code",
   "execution_count": 8,
   "metadata": {},
   "outputs": [
    {
     "name": "stdout",
     "output_type": "stream",
     "text": [
      "Initializing rNMF uniformly at random.\n",
      "Iter = 0; Obj = 2815294.401185665\n",
      "Iter = 100; Obj = 35241.893964493494; Err = 0.007292507551710248\n",
      "Iter = 200; Obj = 19512.405911427697; Err = 0.005157332877847633\n",
      "Iter = 300; Obj = 12508.427410473192; Err = 0.003440948953807533\n",
      "Iter = 400; Obj = 9521.752953457735; Err = 0.002591761899950171\n",
      "Iter = 500; Obj = 6957.281545373262; Err = 0.003159029322661715\n",
      "Iter = 600; Obj = 5620.11624848803; Err = 0.0012524523853722218\n",
      "Iter = 700; Obj = 5164.666853980262; Err = 0.0005856021940572539\n",
      "Iter = 800; Obj = 4931.320375207305; Err = 0.0003736167084732865\n",
      "Iter = 900; Obj = 4775.454110534272; Err = 0.00027891844577636435\n",
      "Iter = 1000; Obj = 4657.414678951167; Err = 0.0002271705282924718\n",
      "Maximum number of iterations achieved\n"
     ]
    }
   ],
   "source": [
    "from LibUnmixing import unmixing2\n",
    "# Robust-NMF: https://github.com/neel-dey/robust-nmf\n",
    "_, coeff, _, _ = unmixing2.robust_nmf(data=(HPCs+6).reshape(-1,PCsNum).T, rank=PCsNum, beta=1.5, reg_val=1, sum_to_one=1)"
   ]
  },
  {
   "cell_type": "code",
   "execution_count": 9,
   "metadata": {},
   "outputs": [
    {
     "name": "stdout",
     "output_type": "stream",
     "text": [
      "ClusterCNN: 0.9755013550135502 0.9720432050318235  Training Time: 25.296875\n"
     ]
    }
   ],
   "source": [
    "X, y = createImageCubes(coeff.T.reshape(HPCs.shape), GT, windowSize=patch)\n",
    "Xtrain, Xtest, ytrain, ytest = train_test_split(X, y, test_size=test_ratio, random_state=345,stratify=y)\n",
    "ytrain = keras.utils.to_categorical(ytrain)\n",
    "\n",
    "## input layer\n",
    "IL = keras.Input(shape=(patch, patch, PCsNum), name='IL')\n",
    "C1 = keras.layers.Conv2D(filters=64, kernel_size=(5,5), activation='relu', name='C1')(IL)\n",
    "P1 = keras.layers.MaxPool2D()(C1)\n",
    "C2 = keras.layers.Conv2D(filters=64, kernel_size=(3,3), activation='relu', name='C2')(P1) \n",
    "P2 = keras.layers.MaxPool2D()(C2)\n",
    "## flatten\n",
    "FL = keras.layers.Flatten(name='FL')(P2)        \n",
    "## fully connected layers\n",
    "D1 = keras.layers.Dense(units=128, activation='relu', name='D1')(FL)\n",
    "D1 = keras.layers.Dropout(0.4, name='dropout1')(D1)\n",
    "D2 = keras.layers.Dense(units=64, activation='relu', name='D2')(D1)\n",
    "D2 = keras.layers.Dropout(0.4, name='dropout2')(D2)\n",
    "OL = keras.layers.Dense(units=ytrain.shape[1], activation='softmax', name='OL')(D2)\n",
    "        \n",
    "model = keras.models.Model(inputs=IL, outputs=OL, name='2DCNN_FCs')\n",
    "        \n",
    "# compiling the model\n",
    "adam = keras.optimizers.Adam(lr=0.001, decay=1e-06)\n",
    "model.compile(loss='categorical_crossentropy', optimizer=adam, metrics=['accuracy'])\n",
    "\n",
    "start_time = time.process_time()\n",
    "# training\n",
    "model.fit(x=Xtrain, y=ytrain, batch_size=256, epochs=100, verbose=0)\n",
    "training_time = time.process_time()-start_time\n",
    "\n",
    "# predict\n",
    "y_pred = np.argmax(model.predict(Xtest), axis=1)\n",
    "oa = metrics.accuracy_score(ytest, y_pred)\n",
    "kappa = metrics.cohen_kappa_score(ytest, y_pred)\n",
    "\n",
    "print('ClusterCNN:', oa, kappa, ' Training Time:', training_time)"
   ]
  },
  {
   "cell_type": "markdown",
   "metadata": {},
   "source": [
    "# Only CNN"
   ]
  },
  {
   "cell_type": "code",
   "execution_count": 8,
   "metadata": {},
   "outputs": [
    {
     "name": "stdout",
     "output_type": "stream",
     "text": [
      "ClusterCNN: 0.9825474254742548 0.9800878989433639  Training Time: 24.578125\n",
      "ClusterCNN: 0.9842818428184282 0.9820687620898033  Training Time: 22.96875\n",
      "ClusterCNN: 0.9784281842818429 0.975353664559102  Training Time: 23.84375\n",
      "ClusterCNN: 0.9823306233062331 0.9798278501007128  Training Time: 23.84375\n",
      "ClusterCNN: 0.9905691056910569 0.9892419193453392  Training Time: 23.984375\n",
      "ClusterCNN: 0.9880758807588076 0.9863993907141486  Training Time: 22.9375\n",
      "ClusterCNN: 0.9867750677506775 0.9849106413530481  Training Time: 22.875\n",
      "ClusterCNN: 0.984390243902439 0.9821781365285682  Training Time: 23.40625\n",
      "ClusterCNN: 0.9761517615176152 0.9727802370491969  Training Time: 24.328125\n",
      "ClusterCNN: 0.9838482384823848 0.9815755713757761  Training Time: 23.734375\n"
     ]
    }
   ],
   "source": [
    "X, y = createImageCubes(HPCs, GT, windowSize=patch)\n",
    "Xtrain, Xtest, ytrain, ytest = train_test_split(X, y, test_size=test_ratio, random_state=345,stratify=y)\n",
    "ytrain = keras.utils.to_categorical(ytrain)\n",
    "\n",
    "## input layer\n",
    "IL = keras.Input(shape=(patch, patch, PCsNum), name='IL')\n",
    "C1 = keras.layers.Conv2D(filters=64, kernel_size=(5,5), activation='relu', name='C1')(IL)\n",
    "P1 = keras.layers.MaxPool2D()(C1)\n",
    "C2 = keras.layers.Conv2D(filters=64, kernel_size=(3,3), activation='relu', name='C2')(P1) \n",
    "P2 = keras.layers.MaxPool2D()(C2)\n",
    "## flatten\n",
    "FL = keras.layers.Flatten(name='FL')(P2)        \n",
    "## fully connected layers\n",
    "D1 = keras.layers.Dense(units=128, activation='relu', name='D1')(FL)\n",
    "D1 = keras.layers.Dropout(0.4, name='dropout1')(D1)\n",
    "D2 = keras.layers.Dense(units=64, activation='relu', name='D2')(D1)\n",
    "D2 = keras.layers.Dropout(0.4, name='dropout2')(D2)\n",
    "OL = keras.layers.Dense(units=ytrain.shape[1], activation='softmax', name='OL')(D2)\n",
    "        \n",
    "model1 = keras.models.Model(inputs=IL, outputs=OL, name='2DCNN_FCs')\n",
    "        \n",
    "# compiling the model\n",
    "adam = keras.optimizers.Adam(lr=0.001, decay=1e-06)\n",
    "model1.compile(loss='categorical_crossentropy', optimizer=adam, metrics=['accuracy'])\n",
    "\n",
    "for i in range(10):\n",
    "    start_time = time.process_time()\n",
    "    # training\n",
    "    model1.fit(x=Xtrain, y=ytrain, batch_size=256, epochs=100, verbose=0)\n",
    "    training_time = time.process_time()-start_time\n",
    "\n",
    "    # predict\n",
    "    y_pred = np.argmax(model1.predict(Xtest), axis=1)\n",
    "    oa = metrics.accuracy_score(ytest, y_pred)\n",
    "    kappa = metrics.cohen_kappa_score(ytest, y_pred)\n",
    "\n",
    "    print('ClusterCNN:', oa, kappa, ' Training Time:', training_time)"
   ]
  },
  {
   "cell_type": "markdown",
   "metadata": {},
   "source": [
    "# ClusterCNN alter"
   ]
  },
  {
   "cell_type": "code",
   "execution_count": 13,
   "metadata": {},
   "outputs": [
    {
     "name": "stdout",
     "output_type": "stream",
     "text": [
      "Model: \"2DCNN_FCs\"\n",
      "_________________________________________________________________\n",
      "Layer (type)                 Output Shape              Param #   \n",
      "=================================================================\n",
      "IL (InputLayer)              [(None, 7, 7, 15)]        0         \n",
      "_________________________________________________________________\n",
      "C1 (Conv2D)                  (None, 7, 7, 64)          24064     \n",
      "_________________________________________________________________\n",
      "C2 (Conv2D)                  (None, 7, 7, 64)          36928     \n",
      "_________________________________________________________________\n",
      "FL (Flatten)                 (None, 3136)              0         \n",
      "_________________________________________________________________\n",
      "D1 (Dense)                   (None, 128)               401536    \n",
      "_________________________________________________________________\n",
      "dropout1 (Dropout)           (None, 128)               0         \n",
      "_________________________________________________________________\n",
      "D2 (Dense)                   (None, 64)                8256      \n",
      "_________________________________________________________________\n",
      "dropout2 (Dropout)           (None, 64)                0         \n",
      "_________________________________________________________________\n",
      "OL (Dense)                   (None, 16)                1040      \n",
      "=================================================================\n",
      "Total params: 471,824\n",
      "Trainable params: 471,824\n",
      "Non-trainable params: 0\n",
      "_________________________________________________________________\n"
     ]
    }
   ],
   "source": [
    "patch = 7\n",
    "X, y = createImageCubes(HPCs, GT, windowSize=patch)\n",
    "Xtrain, Xtest, ytrain, ytest = train_test_split(X, y, test_size=test_ratio, random_state=345,stratify=y)\n",
    "ytrain = keras.utils.to_categorical(ytrain)\n",
    "\n",
    "## input layer\n",
    "IL = keras.Input(shape=(patch, patch, PCsNum), name='IL')\n",
    "C1 = keras.layers.Conv2D(filters=64, padding='same', kernel_size=(5,5), activation='relu', name='C1')(IL)\n",
    "#P1 = keras.layers.MaxPool2D()(C1)\n",
    "C2 = keras.layers.Conv2D(filters=64, padding='same', kernel_size=(3,3), activation='relu', name='C2')(C1) \n",
    "#P2 = keras.layers.MaxPool2D()(C2)\n",
    "## flatten\n",
    "FL = keras.layers.Flatten(name='FL')(C2)        \n",
    "## fully connected layers\n",
    "D1 = keras.layers.Dense(units=128, activation='relu', name='D1')(FL)\n",
    "D1 = keras.layers.Dropout(0.4, name='dropout1')(D1)\n",
    "D2 = keras.layers.Dense(units=64, activation='relu', name='D2')(D1)\n",
    "D2 = keras.layers.Dropout(0.4, name='dropout2')(D2)\n",
    "OL = keras.layers.Dense(units=ytrain.shape[1], activation='softmax', name='OL')(D2)\n",
    "        \n",
    "model1 = keras.models.Model(inputs=IL, outputs=OL, name='2DCNN_FCs') \n",
    "model1.summary()"
   ]
  },
  {
   "cell_type": "code",
   "execution_count": 14,
   "metadata": {},
   "outputs": [
    {
     "name": "stdout",
     "output_type": "stream",
     "text": [
      "ClusterCNN: 0.944390243902439 0.9364523723897088  Training Time: 6.421875\n"
     ]
    }
   ],
   "source": [
    "# compiling the model\n",
    "adam = keras.optimizers.Adam(lr=0.001, decay=1e-06)\n",
    "model1.compile(loss='categorical_crossentropy', optimizer=adam, metrics=['accuracy'])\n",
    "\n",
    "start_time = time.process_time()\n",
    "# training\n",
    "model1.fit(x=Xtrain, y=ytrain, batch_size=256, epochs=100, verbose=0)\n",
    "training_time = time.process_time()-start_time\n",
    "\n",
    "# predict\n",
    "y_pred = np.argmax(model1.predict(Xtest), axis=1)\n",
    "oa = metrics.accuracy_score(ytest, y_pred)\n",
    "kappa = metrics.cohen_kappa_score(ytest, y_pred)\n",
    "\n",
    "print('ClusterCNN:', oa, kappa, ' Training Time:', training_time)"
   ]
  },
  {
   "cell_type": "code",
   "execution_count": 19,
   "metadata": {},
   "outputs": [
    {
     "name": "stdout",
     "output_type": "stream",
     "text": [
      "Shape of Clusters: (145, 145, 16) Clustering Time:  0.375 s.  # of Clusters: 16\n"
     ]
    }
   ],
   "source": [
    "start_time = time.process_time()\n",
    "clusterstack = np.zeros(HPCs.shape)\n",
    "\n",
    "mbk_means = cluster.MiniBatchKMeans(n_clusters=ClusterNum).fit(HPCs.reshape((-1, HPCs.shape[2])))\n",
    "clusterlabel = mbk_means.labels_.reshape((GT.shape))\n",
    "\n",
    "clusterstack = keras.utils.to_categorical(clusterlabel)\n",
    "    \n",
    "timeused = (time.process_time() - start_time)\n",
    "print('Shape of Clusters:', clusterstack.shape, 'Clustering Time: ', timeused, 's.  # of Clusters:', np.max(clusterlabel)+1)"
   ]
  },
  {
   "cell_type": "code",
   "execution_count": 21,
   "metadata": {},
   "outputs": [
    {
     "name": "stdout",
     "output_type": "stream",
     "text": [
      "ClusterCNN: 0.767479674796748 0.733618707396763  Training Time: 6.9375\n"
     ]
    }
   ],
   "source": [
    "patch = 7\n",
    "X, y = createImageCubes(clusterstack, GT, windowSize=patch)\n",
    "Xtrain, Xtest, ytrain, ytest = train_test_split(X, y, test_size=test_ratio, random_state=345,stratify=y)\n",
    "ytrain = keras.utils.to_categorical(ytrain)\n",
    "\n",
    "## input layer\n",
    "IL = keras.Input(shape=(patch, patch, ClusterNum), name='IL')\n",
    "C1 = keras.layers.Conv2D(filters=64, padding='same', kernel_size=(5,5), activation='relu', name='C1')(IL)\n",
    "#P1 = keras.layers.MaxPool2D()(C1)\n",
    "C2 = keras.layers.Conv2D(filters=64, padding='same', kernel_size=(3,3), activation='relu', name='C2')(C1) \n",
    "#P2 = keras.layers.MaxPool2D()(C2)\n",
    "## flatten\n",
    "FL = keras.layers.Flatten(name='FL')(C2)        \n",
    "## fully connected layers\n",
    "D1 = keras.layers.Dense(units=128, activation='relu', name='D1')(FL)\n",
    "D1 = keras.layers.Dropout(0.4, name='dropout1')(D1)\n",
    "D2 = keras.layers.Dense(units=64, activation='relu', name='D2')(D1)\n",
    "D2 = keras.layers.Dropout(0.4, name='dropout2')(D2)\n",
    "OL = keras.layers.Dense(units=ytrain.shape[1], activation='softmax', name='OL')(D2)\n",
    "        \n",
    "model1 = keras.models.Model(inputs=IL, outputs=OL, name='2DCNN_FCs') \n",
    "adam = keras.optimizers.Adam(lr=0.001, decay=1e-06)\n",
    "model1.compile(loss='categorical_crossentropy', optimizer=adam, metrics=['accuracy'])\n",
    "\n",
    "start_time = time.process_time()\n",
    "# training\n",
    "model1.fit(x=Xtrain, y=ytrain, batch_size=256, epochs=100, verbose=0)\n",
    "training_time = time.process_time()-start_time\n",
    "\n",
    "# predict\n",
    "y_pred = np.argmax(model1.predict(Xtest), axis=1)\n",
    "oa = metrics.accuracy_score(ytest, y_pred)\n",
    "kappa = metrics.cohen_kappa_score(ytest, y_pred)\n",
    "\n",
    "print('ClusterCNN:', oa, kappa, ' Training Time:', training_time)"
   ]
  },
  {
   "cell_type": "code",
   "execution_count": null,
   "metadata": {},
   "outputs": [],
   "source": []
  }
 ],
 "metadata": {
  "kernelspec": {
   "display_name": "Python 3",
   "language": "python",
   "name": "python3"
  },
  "language_info": {
   "codemirror_mode": {
    "name": "ipython",
    "version": 3
   },
   "file_extension": ".py",
   "mimetype": "text/x-python",
   "name": "python",
   "nbconvert_exporter": "python",
   "pygments_lexer": "ipython3",
   "version": "3.7.4"
  },
  "toc-showcode": true
 },
 "nbformat": 4,
 "nbformat_minor": 4
}
