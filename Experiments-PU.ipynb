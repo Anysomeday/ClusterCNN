{
 "cells": [
  {
   "cell_type": "markdown",
   "metadata": {},
   "source": [
    "# Setup"
   ]
  },
  {
   "cell_type": "code",
   "execution_count": 1,
   "metadata": {},
   "outputs": [],
   "source": [
    "import os\n",
    "import time\n",
    "\n",
    "import numpy as np\n",
    "import scipy.io as sio\n",
    "import spectral\n",
    "from sklearn import cluster\n",
    "from sklearn.preprocessing import scale\n",
    "from sklearn.decomposition import PCA\n",
    "from sklearn.model_selection import train_test_split\n",
    "from sklearn.metrics import accuracy_score, cohen_kappa_score, adjusted_rand_score\n",
    "from tensorflow import keras\n",
    "\n",
    "def applyPCA(X, numComponents=75):\n",
    "    xshape = X.shape\n",
    "    pca = PCA(n_components=numComponents, whiten=True)\n",
    "    PCs = pca.fit_transform(X.reshape(-1, xshape[2])).reshape(xshape[0], xshape[1], numComponents)\n",
    "    return PCs\n",
    "\n",
    "def padWithZeros(X, margin=2):\n",
    "    newX = np.zeros((X.shape[0] + 2*margin, X.shape[1] + 2*margin, X.shape[2]))\n",
    "    newX[margin:X.shape[0] + margin, margin:X.shape[1] + margin, :] = X\n",
    "    return newX\n",
    "\n",
    "def createImageCubes(X, y, windowSize=5, removeZeroLabels = True):\n",
    "    margin = int((windowSize - 1) / 2)\n",
    "    zeroPaddedX = padWithZeros(X, margin=margin)\n",
    "    # split patches\n",
    "    patchesData = np.zeros((X.shape[0] * X.shape[1], windowSize, windowSize, X.shape[2]))\n",
    "    patchesLabels = np.zeros((X.shape[0] * X.shape[1]))\n",
    "    patchIndex = 0\n",
    "    for r in range(margin, zeroPaddedX.shape[0] - margin):\n",
    "        for c in range(margin, zeroPaddedX.shape[1] - margin):\n",
    "            patch = zeroPaddedX[r - margin:r + margin + 1, c - margin:c + margin + 1]   \n",
    "            patchesData[patchIndex, :, :, :] = patch\n",
    "            patchesLabels[patchIndex] = y[r-margin, c-margin]\n",
    "            patchIndex = patchIndex + 1\n",
    "    if removeZeroLabels:\n",
    "        patchesData = patchesData[patchesLabels>0,:,:,:]\n",
    "        patchesLabels = patchesLabels[patchesLabels>0]\n",
    "        patchesLabels -= 1\n",
    "    return patchesData, patchesLabels\n",
    "\n",
    "def count_FLOPs(model):\n",
    "    '''FLOPs的计算：    \n",
    "    参考https://www.zhihu.com/question/65305385\n",
    "    以及https://blog.csdn.net/weixin_43915709/article/details/94566125\n",
    "    '''\n",
    "    FLOPs = 0\n",
    "    for i in range(len(model.layers)):\n",
    "        layer = model.layers[i]\n",
    "        if layer.__class__.__name__ == 'Conv3D':\n",
    "            FLOPs += 2*np.prod(layer.kernel_size[:3])*np.prod(layer.output_shape[1:5])\n",
    "        if layer.__class__.__name__ == 'Conv2D':\n",
    "            FLOPs += 2*np.prod(layer.kernel_size[:2])*layer.input_shape[3]*np.prod(layer.output_shape[1:4])\n",
    "        if layer.__class__.__name__ in ('MaxPooling3D', 'AveragePooling3D'):\n",
    "            FLOPs += np.prod(layer.pool_size[:3])*np.prod(layer.output_shape[1:5])\n",
    "        if layer.__class__.__name__ in ('MaxPooling2D', 'AveragePooling2D'):\n",
    "            FLOPs += np.prod(layer.pool_size[:2])*np.prod(layer.output_shape[1:4])\n",
    "        if layer.__class__.__name__ == 'GlobalAveragePooling3D':\n",
    "            FLOPs += np.prod(layer.input_shape[1:5])\n",
    "        if layer.__class__.__name__ == 'GlobalAveragePooling2D':\n",
    "            FLOPs += np.prod(layer.input_shape[1:4])             \n",
    "        if layer.__class__.__name__ in ('Activation', 'Add', 'Multiply'):\n",
    "            FLOPs += np.prod(layer.output_shape[1:])            \n",
    "        if layer.__class__.__name__ == 'Dense':\n",
    "            FLOPs += 2*layer.input_shape[1]*layer.output_shape[1]\n",
    "        #if layer.__class__.__name__ == 'BatchNormalization':               \n",
    "    return FLOPs\n",
    "\n",
    "HSI = sio.loadmat(os.path.join(os.getcwd(),'data/PaviaU.mat'))['paviaU']\n",
    "GT = sio.loadmat(os.path.join(os.getcwd(),'data/PaviaU_gt.mat'))['paviaU_gt']\n",
    "test_ratio = 0.9"
   ]
  },
  {
   "cell_type": "markdown",
   "metadata": {
    "toc-hr-collapsed": true,
    "toc-nb-collapsed": true
   },
   "source": [
    "# Visualization"
   ]
  },
  {
   "cell_type": "code",
   "execution_count": 14,
   "metadata": {},
   "outputs": [
    {
     "data": {
      "image/png": "[encoded data removed]",
      "text/plain": [
       "<Figure size 360x360 with 1 Axes>"
      ]
     },
     "metadata": {
      "needs_background": "light"
     },
     "output_type": "display_data"
    }
   ],
   "source": [
    "# original images\n",
    "#view=spectral.imshow(HSI, (53, 31, 8), figsize=(5, 5), classes=GT, title='Pavia University')\n",
    "\n",
    "# lulc maps\n",
    "predictions = np.argmax(model.predict(X), axis=1)+1\n",
    "outputs = np.zeros(GT.shape)\n",
    "k = 0\n",
    "for i in range(GT.shape[0]):\n",
    "    for j in range(GT.shape[1]):\n",
    "        if int(GT[i,j]) == 0 :\n",
    "            continue\n",
    "        else:\n",
    "            outputs[i, j] = predictions[k]\n",
    "            k += 1\n",
    "            \n",
    "#ground_truth = spectral.imshow(classes = GT,figsize =(5,5), title='Ground Truth')\n",
    "#spectral.save_rgb(str(dataset)+\"_ground_truth.jpg\", GT, colors=spectral.spy_colors)\n",
    "predict_image = spectral.imshow(classes = outputs.astype(int),figsize =(5,5), title='SSRN')\n",
    "#spectral.save_rgb(str(dataset)+\"_ClusterCNN_\"+expnum+\".jpg\", outputs.astype(int), colors=spectral.spy_colors)"
   ]
  },
  {
   "cell_type": "markdown",
   "metadata": {
    "toc-hr-collapsed": true,
    "toc-nb-collapsed": true
   },
   "source": [
    "# DCCNN\n",
    "https://github.com/stop68/Remote-Sensing-Image-Classification/blob/master/demo_keras.py"
   ]
  },
  {
   "cell_type": "code",
   "execution_count": 6,
   "metadata": {},
   "outputs": [
    {
     "name": "stdout",
     "output_type": "stream",
     "text": [
      "Epoch 00007: early stopping\n",
      "DBMA: 0.9857398893477752 0.9811037280460545  Time Comsumption: 365\n"
     ]
    }
   ],
   "source": [
    "from Utils import networks as nw\n",
    "\n",
    "patch = 5  # if patch==5, WCRN DCCNN. if patch==7, BDMA.\n",
    "im = applyPCA(HSI,numComponents=15)\n",
    "im1x,im1y,im1z = im.shape\n",
    "cls1 = np.max(GT)\n",
    "\n",
    "X, y = createImageCubes(im, GT, windowSize=patch)\n",
    "x_train, x_test, y_train, y_test = train_test_split(X, y, test_size=test_ratio, random_state=345, stratify=y)\n",
    "# x_train,y_train = rscls.make_sample(x_train,y_train)  # augmentation\n",
    "y_train = keras.utils.to_categorical(np.asarray(y_train))\n",
    "\n",
    "# DBMA\n",
    "model = nw.DCCNN(im1z, patch, cls1) \n",
    "adadelta1 = keras.optimizers.Adadelta(lr=1.0)\n",
    "adadelta2 = keras.optimizers.Adadelta(lr=0.2)\n",
    "early_stopping = keras.callbacks.EarlyStopping(monitor='loss', patience=5, verbose=2)\n",
    "\n",
    "for i in range(1):\n",
    "    time1 = int(time.time())\n",
    "    # first train the model with lr=1.0    \n",
    "    model.compile(loss='categorical_crossentropy',optimizer=adadelta1,metrics=['accuracy'])\n",
    "    model.fit(x_train,y_train,batch_size=20,epochs=80,verbose=0,shuffle=True)\n",
    "\n",
    "    # then train the model with lr=0.1; if loss not decrease for 5 epoches, stop training\n",
    "    model.compile(loss='categorical_crossentropy',optimizer=adadelta2,metrics=['accuracy'])   \n",
    "    model.fit(x_train,y_train,batch_size=20,epochs=20,verbose=0,shuffle=0,callbacks=[early_stopping])\n",
    "    time2 = int(time.time())\n",
    "\n",
    "    # predict\n",
    "    y_pred = np.argmax(model.predict(x_test), axis=1)\n",
    "    oa = accuracy_score(y_test, y_pred)\n",
    "    kappa = cohen_kappa_score(y_test, y_pred)\n",
    "    \n",
    "    print('DBMA:', oa, kappa, ' Time Comsumption:', time2-time1)"
   ]
  },
  {
   "cell_type": "markdown",
   "metadata": {
    "toc-hr-collapsed": true,
    "toc-nb-collapsed": true
   },
   "source": [
    "# DBMA\n",
    "https://github.com/stop68/Remote-Sensing-Image-Classification/blob/master/demo_keras.py"
   ]
  },
  {
   "cell_type": "code",
   "execution_count": 11,
   "metadata": {},
   "outputs": [
    {
     "name": "stdout",
     "output_type": "stream",
     "text": [
      "DBMA: 0.9986233408659965 0.9981756948205219  Time Comsumption: 562\n"
     ]
    }
   ],
   "source": [
    "from Utils import networks as nw\n",
    "\n",
    "patch = 7  # if patch==5, WCRN DCCNN. if patch==7, BDMA. if patch==9, ResNet-avg.\n",
    "im = applyPCA(HSI,numComponents=15)\n",
    "im1x,im1y,im1z = im.shape\n",
    "cls1 = np.max(GT)\n",
    "\n",
    "X, y = createImageCubes(im, GT, windowSize=patch)\n",
    "X = X.reshape(X.shape[0], X.shape[1], X.shape[2], X.shape[3], -1)\n",
    "x_train, x_test, y_train, y_test = train_test_split(X, y, test_size=test_ratio, random_state=345, stratify=y)\n",
    "# x_train,y_train = rscls.make_sample(x_train,y_train)  # augmentation\n",
    "y_train = keras.utils.to_categorical(np.asarray(y_train))\n",
    "#x_train = x_train.reshape(x_train.shape[0],patch,patch,im1z,-1) # 3D CNN, samples are 5-dimensional\n",
    "#x_test = x_test.reshape(x_test.shape[0],patch,patch,im1z,-1)    # 3D CNN, samples are 5-dimensional\n",
    "\n",
    "# DBMA\n",
    "model = nw.DBMA(im1z, patch, cls1)  # 3D CNN, samples are 5-dimensional\n",
    "adadelta1 = keras.optimizers.Adadelta(lr=1.0)\n",
    "adadelta2 = keras.optimizers.Adadelta(lr=0.2)\n",
    "early_stopping = keras.callbacks.EarlyStopping(monitor='loss', patience=5, verbose=2)\n",
    "\n",
    "for i in range(1):\n",
    "    time1 = int(time.time())\n",
    "    # first train the model with lr=1.0    \n",
    "    model.compile(loss='categorical_crossentropy',optimizer=adadelta1,metrics=['accuracy'])\n",
    "    model.fit(x_train,y_train,batch_size=20,epochs=80,verbose=0,shuffle=True)\n",
    "\n",
    "    # then train the model with lr=0.1; if loss not decrease for 5 epoches, stop training\n",
    "    model.compile(loss='categorical_crossentropy',optimizer=adadelta2,metrics=['accuracy'])   \n",
    "    model.fit(x_train,y_train,batch_size=20,epochs=20,verbose=0,shuffle=0,callbacks=[early_stopping])\n",
    "    time2 = int(time.time())\n",
    "\n",
    "    # predict\n",
    "    y_pred = np.argmax(model.predict(x_test), axis=1)\n",
    "    oa = accuracy_score(y_test, y_pred)\n",
    "    kappa = cohen_kappa_score(y_test, y_pred)\n",
    "\n",
    "    print('DBMA:', oa, kappa, ' Time Comsumption:', time2-time1)"
   ]
  },
  {
   "cell_type": "markdown",
   "metadata": {
    "toc-hr-collapsed": true,
    "toc-nb-collapsed": true
   },
   "source": [
    "# SSRN\n",
    "https://github.com/zilongzhong/SSRN"
   ]
  },
  {
   "cell_type": "code",
   "execution_count": null,
   "metadata": {},
   "outputs": [],
   "source": [
    "from Utils import ssrn_SS_IN\n",
    "\n",
    "patch = 7  #25\n",
    "nb_classes = np.max(GT)\n",
    "\n",
    "data_norm = HSI.reshape(np.prod(HSI.shape[:2]),np.prod(HSI.shape[2:]))\n",
    "data_norm = scale(data_norm)\n",
    "data_norm = data_norm.reshape(HSI.shape[0], HSI.shape[1],HSI.shape[2])\n",
    "#im = applyPCA(data_norm,numComponents=15)\n",
    "im = data_norm\n",
    "\n",
    "X, y = createImageCubes(im, GT, windowSize=patch)\n",
    "X = X.reshape(X.shape[0], X.shape[1], X.shape[2], X.shape[3], 1)\n",
    "x_train, x_test, y_train, y_test = train_test_split(X, y, test_size=test_ratio, random_state=345, stratify=y)\n",
    "y_train = keras.utils.to_categorical(np.asarray(y_train))\n",
    "VAL_SIZE = int(0.1*X.shape[0])\n",
    "x_val = x_test[-VAL_SIZE:]\n",
    "y_val = keras.utils.to_categorical(np.asarray(y_test))[-VAL_SIZE:]\n",
    "x_test = x_test[:-VAL_SIZE]\n",
    "y_test = y_test[:-VAL_SIZE]\n",
    "\n",
    "# SSRN 4 with BN\n",
    "model = ssrn_SS_IN.ResnetBuilder.build_resnet_8((1, patch, patch, im.shape[2]), nb_classes)\n",
    "RMS = keras.optimizers.RMSprop(lr=0.0003)\n",
    "model.compile(loss='categorical_crossentropy', optimizer=RMS, metrics=['accuracy'])\n",
    "\n",
    "#x_train = x_train.reshape(x_train.shape[0], x_train.shape[1], x_train.shape[2], x_train.shape[3], 1)\n",
    "#x_val = x_val.reshape(x_val.shape[0], x_val.shape[1], x_val.shape[2], x_val.shape[3], 1)\n",
    "#x_test = x_test.reshape(x_test.shape[0], x_test.shape[1], x_test.shape[2], x_test.shape[3], 1)\n",
    "\n",
    "for i in range(1):\n",
    "    time1 = int(time.time())\n",
    "    # training\n",
    "    model.fit(x_train, y_train, batch_size=16, epochs=100, shuffle=False, verbose=0)\n",
    "    time2 = int(time.time())\n",
    "    \n",
    "    # predict\n",
    "    y_pred = np.argmax(model.predict(x_test), axis=1)\n",
    "    oa = accuracy_score(y_test, y_pred)\n",
    "    kappa = cohen_kappa_score(y_test, y_pred)\n",
    "\n",
    "    print('SSRN:', oa, kappa, ' Time Comsumption:', time2-time1)"
   ]
  },
  {
   "cell_type": "markdown",
   "metadata": {
    "toc-hr-collapsed": true,
    "toc-nb-collapsed": true
   },
   "source": [
    "# HybridSN\n",
    "https://github.com/gokriznastic/HybridSN"
   ]
  },
  {
   "cell_type": "code",
   "execution_count": 6,
   "metadata": {},
   "outputs": [
    {
     "name": "stdout",
     "output_type": "stream",
     "text": [
      "Hybrid: 0.984467129016338 0.9794220770793202  Time Comsumption: 375\n"
     ]
    }
   ],
   "source": [
    "windowSize = 25\n",
    "PCsNum = 15\n",
    "HPCs = applyPCA(HSI,numComponents=PCsNum)\n",
    "\n",
    "X, y = createImageCubes(HPCs, GT, windowSize=windowSize)\n",
    "Xtrain, Xtest, ytrain, ytest = train_test_split(X, y, test_size=test_ratio, random_state=345,stratify=y)\n",
    "Xtrain = Xtrain.reshape(-1, windowSize, windowSize, PCsNum, 1)\n",
    "Xtest = Xtest.reshape(-1, windowSize, windowSize, PCsNum, 1)\n",
    "ytrain = keras.utils.to_categorical(ytrain)\n",
    "\n",
    "## input layer\n",
    "input_layer = keras.Input((windowSize, windowSize, PCsNum, 1))\n",
    "\n",
    "## convolutional layers\n",
    "conv_layer1 = keras.layers.Conv3D(filters=8, kernel_size=(3, 3, 7), activation='relu')(input_layer)\n",
    "conv_layer2 = keras.layers.Conv3D(filters=16, kernel_size=(3, 3, 5), activation='relu')(conv_layer1)\n",
    "conv_layer3 = keras.layers.Conv3D(filters=32, kernel_size=(3, 3, 3), activation='relu')(conv_layer2)\n",
    "conv3d_shape = conv_layer3.shape\n",
    "conv_layer3 = keras.layers.Reshape((conv3d_shape[1], conv3d_shape[2], conv3d_shape[3]*conv3d_shape[4]))(conv_layer3)\n",
    "conv_layer4 = keras.layers.Conv2D(filters=64, kernel_size=(3,3), activation='relu')(conv_layer3)\n",
    "\n",
    "flatten_layer = keras.layers.Flatten()(conv_layer4)\n",
    "\n",
    "## fully connected layers\n",
    "dense_layer1 = keras.layers.Dense(units=256, activation='relu')(flatten_layer)\n",
    "dense_layer1 = keras.layers.Dropout(0.4)(dense_layer1)\n",
    "dense_layer2 = keras.layers.Dense(units=128, activation='relu')(dense_layer1)\n",
    "dense_layer2 = keras.layers.Dropout(0.4)(dense_layer2)\n",
    "output_layer = keras.layers.Dense(units=ytrain.shape[1], activation='softmax')(dense_layer2)\n",
    "\n",
    "model = keras.models.Model(inputs=input_layer, outputs=output_layer, name='HybridSN')\n",
    "        \n",
    "# compiling the model\n",
    "adam = keras.optimizers.Adam(lr=0.001, decay=1e-06)\n",
    "model.compile(loss='categorical_crossentropy', optimizer=adam, metrics=['accuracy'])\n",
    "\n",
    "for j in range(1):\n",
    "    time1 = int(time.time())\n",
    "    # training\n",
    "    model.fit(x=Xtrain, y=ytrain, batch_size=128, epochs=100, verbose=0)     \n",
    "    time2 = int(time.time())\n",
    "    \n",
    "    # predict\n",
    "    y_pred = np.argmax(model.predict(Xtest), axis=1)\n",
    "    oa = accuracy_score(ytest, y_pred)\n",
    "    kappa = cohen_kappa_score(ytest, y_pred)\n",
    "\n",
    "    print('Hybrid:', oa, kappa, ' Time Comsumption:', time2-time1)"
   ]
  },
  {
   "cell_type": "markdown",
   "metadata": {},
   "source": [
    "# ClusterCNN"
   ]
  },
  {
   "cell_type": "markdown",
   "metadata": {
    "toc-hr-collapsed": true,
    "toc-nb-collapsed": true
   },
   "source": [
    "## vanilla ClusterCNN"
   ]
  },
  {
   "cell_type": "code",
   "execution_count": 4,
   "metadata": {},
   "outputs": [
    {
     "name": "stdout",
     "output_type": "stream",
     "text": [
      "Shape of Clusters: (610, 340, 15) Clustering Time:  7.15625 s.  # of Clusters: 100\n",
      "ClusterCNN: 0.9974804540377672 0.9966613864840083  Training Time: 42\n"
     ]
    }
   ],
   "source": [
    "patch = 25\n",
    "PCsNum = 15\n",
    "ClusterNum = 100   \n",
    "HPCs = applyPCA(HSI,numComponents=PCsNum)\n",
    "\n",
    "start_time = time.process_time()\n",
    "clusterstack = np.zeros(HPCs.shape)\n",
    "cluster_algorithm = 'minikmeans' \n",
    "\n",
    "mbk_means = cluster.MiniBatchKMeans(n_clusters=ClusterNum).fit(HPCs.reshape((-1, HPCs.shape[2])))\n",
    "clusterlabel = mbk_means.labels_.reshape((GT.shape))\n",
    "for i in range(ClusterNum):\n",
    "    clusterstack[clusterlabel==i]=np.mean(HPCs[clusterlabel==i], axis=0)\n",
    "    \n",
    "timeused = (time.process_time() - start_time)\n",
    "print(f'{cluster_algorithm}.  Clustering Time:{timeused}s.  # of Clusters:{np.max(clusterlabel)+1}')\n",
    "\n",
    "X, y = createImageCubes(clusterstack, GT, windowSize=patch)\n",
    "Xtrain, Xtest, ytrain, ytest = train_test_split(X, y, test_size=test_ratio, random_state=345,stratify=y)\n",
    "ytrain = keras.utils.to_categorical(ytrain)\n",
    "\n",
    "## input layer\n",
    "IL = keras.Input(shape=(patch, patch, PCsNum), name='IL')\n",
    "C1 = keras.layers.Conv2D(filters=64, kernel_size=(5,5), activation='relu', name='C1')(IL)\n",
    "P1 = keras.layers.MaxPool2D()(C1)\n",
    "C2 = keras.layers.Conv2D(filters=64, kernel_size=(3,3), activation='relu', name='C2')(P1) \n",
    "P2 = keras.layers.MaxPool2D()(C2)\n",
    "## flatten\n",
    "FL = keras.layers.Flatten(name='FL')(P2)        \n",
    "## fully connected layers\n",
    "D1 = keras.layers.Dense(units=128, activation='relu', name='D1')(FL)\n",
    "D1 = keras.layers.Dropout(0.4, name='dropout1')(D1)\n",
    "D2 = keras.layers.Dense(units=64, activation='relu', name='D2')(D1)\n",
    "D2 = keras.layers.Dropout(0.4, name='dropout2')(D2)\n",
    "OL = keras.layers.Dense(units=ytrain.shape[1], activation='softmax', name='OL')(D2)\n",
    "        \n",
    "model = keras.models.Model(inputs=IL, outputs=OL, name='2DCNN_FCs')\n",
    "        \n",
    "# compiling the model\n",
    "adam = keras.optimizers.Adam(lr=0.001, decay=1e-06)\n",
    "model.compile(loss='categorical_crossentropy', optimizer=adam, metrics=['accuracy'])\n",
    "\n",
    "for j in range(1):\n",
    "    time3 = int(time.time())\n",
    "    # training\n",
    "    model.fit(x=Xtrain, y=ytrain, batch_size=64, epochs=100, verbose=0)\n",
    "    time4 = int(time.time())\n",
    "    \n",
    "    # predic\n",
    "    y_pred = np.argmax(model.predict(Xtest), axis=1)\n",
    "    oa = accuracy_score(ytest, y_pred)\n",
    "    kappa = cohen_kappa_score(ytest, y_pred)\n",
    "\n",
    "    print('ClusterCNN:', oa, kappa, ' Training Time:', time4-time3)"
   ]
  },
  {
   "cell_type": "markdown",
   "metadata": {
    "toc-hr-collapsed": true,
    "toc-nb-collapsed": true
   },
   "source": [
    "## ClusterCNN with very few Clusters"
   ]
  },
  {
   "cell_type": "code",
   "execution_count": 2,
   "metadata": {},
   "outputs": [
    {
     "name": "stdout",
     "output_type": "stream",
     "text": [
      "minibatchKmeans.  Clustering Time:1.390625s.  # of Clusters:20\n",
      "ClusterCNN: 0.9955583261902906 0.9941154674703562  Training Time: 119.9375\n"
     ]
    }
   ],
   "source": [
    "patch = 25\n",
    "PCsNum = 15\n",
    "ClusterNum = 20    \n",
    "HPCs = applyPCA(HSI,numComponents=PCsNum)\n",
    "\n",
    "start_time = time.process_time()\n",
    "clusterstack = np.zeros(HPCs.shape)\n",
    "\n",
    "cluster_algorithm = 'minibatchKmeans'\n",
    "mbk_means = cluster.MiniBatchKMeans(n_clusters=ClusterNum).fit(HPCs.reshape((-1, HPCs.shape[2])))\n",
    "clusterlabel = mbk_means.labels_.reshape((GT.shape))\n",
    "for i in range(ClusterNum):\n",
    "    clusterstack[clusterlabel==i]=np.mean(HPCs[clusterlabel==i], axis=0)\n",
    "\n",
    "timeused = (time.process_time() - start_time)\n",
    "print(f'{cluster_algorithm}.  Clustering Time:{timeused}s.  # of Clusters:{np.max(clusterlabel)+1}')\n",
    "\n",
    "X, y = createImageCubes(clusterstack, GT, windowSize=patch)\n",
    "Xtrain, Xtest, ytrain, ytest = train_test_split(X, y, test_size=test_ratio, random_state=345,stratify=y)\n",
    "ytrain = keras.utils.to_categorical(ytrain)\n",
    "\n",
    "## input layer\n",
    "IL = keras.Input(shape=(patch, patch, PCsNum), name='IL')\n",
    "C1 = keras.layers.Conv2D(filters=64, kernel_size=(5,5), activation='relu', name='C1')(IL)\n",
    "P1 = keras.layers.MaxPool2D()(C1)\n",
    "C2 = keras.layers.Conv2D(filters=64, kernel_size=(3,3), activation='relu', name='C2')(P1) \n",
    "P2 = keras.layers.MaxPool2D()(C2)\n",
    "## flatten\n",
    "FL = keras.layers.Flatten(name='FL')(P2)        \n",
    "## fully connected layers\n",
    "D1 = keras.layers.Dense(units=128, activation='relu', name='D1')(FL)\n",
    "D1 = keras.layers.Dropout(0.4, name='dropout1')(D1)\n",
    "D2 = keras.layers.Dense(units=64, activation='relu', name='D2')(D1)\n",
    "D2 = keras.layers.Dropout(0.4, name='dropout2')(D2)\n",
    "OL = keras.layers.Dense(units=ytrain.shape[1], activation='softmax', name='OL')(D2)\n",
    "\n",
    "model = keras.models.Model(inputs=IL, outputs=OL, name='2DCNN_FCs')\n",
    "\n",
    "# compiling the model\n",
    "adam = keras.optimizers.Adam(lr=0.001, decay=1e-06)\n",
    "model.compile(loss='categorical_crossentropy', optimizer=adam, metrics=['accuracy'])\n",
    "\n",
    "start_time = time.process_time()\n",
    "# training\n",
    "model.fit(x=Xtrain, y=ytrain, batch_size=256, epochs=100, verbose=0)\n",
    "training_time = time.process_time()-start_time\n",
    "\n",
    "# predict\n",
    "y_pred = np.argmax(model.predict(Xtest), axis=1)\n",
    "oa = accuracy_score(ytest, y_pred)\n",
    "kappa = cohen_kappa_score(ytest, y_pred)\n",
    "\n",
    "print('ClusterCNN:', oa, kappa, ' Training Time:', training_time)"
   ]
  },
  {
   "cell_type": "markdown",
   "metadata": {},
   "source": [
    "## ClusterCNN with DBSCAN"
   ]
  },
  {
   "cell_type": "code",
   "execution_count": null,
   "metadata": {},
   "outputs": [],
   "source": [
    "patch = 25\n",
    "PCsNum = 15  \n",
    "HPCs = applyPCA(HSI,numComponents=PCsNum)\n",
    "\n",
    "start_time = time.process_time()\n",
    "clusterstack = np.zeros(HPCs.shape)\n",
    "\n",
    "cluster_algorithm = 'density' \n",
    "dbcluster = cluster.DBSCAN().fit(HPCs[:,:,:3].reshape((-1, 3)))\n",
    "clusterlabel = dbcluster.labels_.reshape((GT.shape))\n",
    "\n",
    "for i in range(np.max(clusterlabel)+1):\n",
    "    clusterstack[clusterlabel==i]=np.mean(HPCs[clusterlabel==i], axis=0)\n",
    "    \n",
    "timeused = (time.process_time() - start_time)\n",
    "print(f'{cluster_algorithm}.  Clustering Time:{timeused}s.  # of Clusters:{np.max(clusterlabel)+1}')\n",
    "    \n",
    "X, y = createImageCubes(clusterstack, GT, windowSize=patch)\n",
    "Xtrain, Xtest, ytrain, ytest = train_test_split(X, y, test_size=test_ratio, random_state=345,stratify=y)\n",
    "ytrain = keras.utils.to_categorical(ytrain)\n",
    "\n",
    "## input layer\n",
    "IL = keras.Input(shape=(patch, patch, PCsNum), name='IL')\n",
    "C1 = keras.layers.Conv2D(filters=64, kernel_size=(5,5), activation='relu', name='C1')(IL)\n",
    "P1 = keras.layers.MaxPool2D()(C1)\n",
    "C2 = keras.layers.Conv2D(filters=64, kernel_size=(3,3), activation='relu', name='C2')(P1) \n",
    "P2 = keras.layers.MaxPool2D()(C2)\n",
    "## flatten\n",
    "FL = keras.layers.Flatten(name='FL')(P2)        \n",
    "## fully connected layers\n",
    "D1 = keras.layers.Dense(units=128, activation='relu', name='D1')(FL)\n",
    "D1 = keras.layers.Dropout(0.4, name='dropout1')(D1)\n",
    "D2 = keras.layers.Dense(units=64, activation='relu', name='D2')(D1)\n",
    "D2 = keras.layers.Dropout(0.4, name='dropout2')(D2)\n",
    "OL = keras.layers.Dense(units=ytrain.shape[1], activation='softmax', name='OL')(D2)\n",
    "        \n",
    "model = keras.models.Model(inputs=IL, outputs=OL, name='2DCNN_FCs')\n",
    "        \n",
    "# compiling the model\n",
    "adam = keras.optimizers.Adam(lr=0.001, decay=1e-06)\n",
    "model.compile(loss='categorical_crossentropy', optimizer=adam, metrics=['accuracy'])\n",
    "\n",
    "for j in range(1):\n",
    "    time3 = int(time.time())\n",
    "    # training\n",
    "    model.fit(x=Xtrain, y=ytrain, batch_size=64, epochs=100, verbose=0)\n",
    "    time4 = int(time.time())\n",
    "    \n",
    "    # predic\n",
    "    y_pred = np.argmax(model.predict(Xtest), axis=1)\n",
    "    oa = accuracy_score(ytest, y_pred)\n",
    "    kappa = cohen_kappa_score(ytest, y_pred)\n",
    "\n",
    "    print('ClusterCNN:', oa, kappa, ' Training Time:', time4-time3)"
   ]
  },
  {
   "cell_type": "markdown",
   "metadata": {
    "toc-hr-collapsed": true,
    "toc-nb-collapsed": true
   },
   "source": [
    "## ClusterCNN with Spectral Clustering"
   ]
  },
  {
   "cell_type": "code",
   "execution_count": 8,
   "metadata": {},
   "outputs": [
    {
     "ename": "MemoryError",
     "evalue": "Unable to allocate array with shape (207400, 207400) and data type float64",
     "output_type": "error",
     "traceback": [
      "\u001b[1;31m---------------------------------------------------------------------------\u001b[0m",
      "\u001b[1;31mMemoryError\u001b[0m                               Traceback (most recent call last)",
      "\u001b[1;32m<ipython-input-8-882a3514ca5f>\u001b[0m in \u001b[0;36m<module>\u001b[1;34m\u001b[0m\n\u001b[0;32m      8\u001b[0m \u001b[1;33m\u001b[0m\u001b[0m\n\u001b[0;32m      9\u001b[0m \u001b[0mcluster_algorithm\u001b[0m \u001b[1;33m=\u001b[0m \u001b[1;34m'spectral'\u001b[0m\u001b[1;33m\u001b[0m\u001b[1;33m\u001b[0m\u001b[0m\n\u001b[1;32m---> 10\u001b[1;33m \u001b[0mspecluster\u001b[0m \u001b[1;33m=\u001b[0m \u001b[0mcluster\u001b[0m\u001b[1;33m.\u001b[0m\u001b[0mSpectralClustering\u001b[0m\u001b[1;33m(\u001b[0m\u001b[0mn_clusters\u001b[0m\u001b[1;33m=\u001b[0m\u001b[0mClusterNum\u001b[0m\u001b[1;33m)\u001b[0m\u001b[1;33m.\u001b[0m\u001b[0mfit\u001b[0m\u001b[1;33m(\u001b[0m\u001b[0mHPCs\u001b[0m\u001b[1;33m.\u001b[0m\u001b[0mreshape\u001b[0m\u001b[1;33m(\u001b[0m\u001b[1;33m(\u001b[0m\u001b[1;33m-\u001b[0m\u001b[1;36m1\u001b[0m\u001b[1;33m,\u001b[0m \u001b[0mHPCs\u001b[0m\u001b[1;33m.\u001b[0m\u001b[0mshape\u001b[0m\u001b[1;33m[\u001b[0m\u001b[1;36m2\u001b[0m\u001b[1;33m]\u001b[0m\u001b[1;33m)\u001b[0m\u001b[1;33m)\u001b[0m\u001b[1;33m)\u001b[0m\u001b[1;33m\u001b[0m\u001b[1;33m\u001b[0m\u001b[0m\n\u001b[0m\u001b[0;32m     11\u001b[0m \u001b[0mclusterlabel\u001b[0m \u001b[1;33m=\u001b[0m \u001b[0mspecluster\u001b[0m\u001b[1;33m.\u001b[0m\u001b[0mlabels_\u001b[0m\u001b[1;33m.\u001b[0m\u001b[0mreshape\u001b[0m\u001b[1;33m(\u001b[0m\u001b[1;33m(\u001b[0m\u001b[0mGT\u001b[0m\u001b[1;33m.\u001b[0m\u001b[0mshape\u001b[0m\u001b[1;33m)\u001b[0m\u001b[1;33m)\u001b[0m\u001b[1;33m\u001b[0m\u001b[1;33m\u001b[0m\u001b[0m\n\u001b[0;32m     12\u001b[0m \u001b[1;32mfor\u001b[0m \u001b[0mi\u001b[0m \u001b[1;32min\u001b[0m \u001b[0mrange\u001b[0m\u001b[1;33m(\u001b[0m\u001b[0mClusterNum\u001b[0m\u001b[1;33m)\u001b[0m\u001b[1;33m:\u001b[0m\u001b[1;33m\u001b[0m\u001b[1;33m\u001b[0m\u001b[0m\n",
      "\u001b[1;32m~\\Miniconda3\\lib\\site-packages\\sklearn\\cluster\\spectral.py\u001b[0m in \u001b[0;36mfit\u001b[1;34m(self, X, y)\u001b[0m\n\u001b[0;32m    482\u001b[0m             self.affinity_matrix_ = pairwise_kernels(X, metric=self.affinity,\n\u001b[0;32m    483\u001b[0m                                                      \u001b[0mfilter_params\u001b[0m\u001b[1;33m=\u001b[0m\u001b[1;32mTrue\u001b[0m\u001b[1;33m,\u001b[0m\u001b[1;33m\u001b[0m\u001b[1;33m\u001b[0m\u001b[0m\n\u001b[1;32m--> 484\u001b[1;33m                                                      **params)\n\u001b[0m\u001b[0;32m    485\u001b[0m \u001b[1;33m\u001b[0m\u001b[0m\n\u001b[0;32m    486\u001b[0m         \u001b[0mrandom_state\u001b[0m \u001b[1;33m=\u001b[0m \u001b[0mcheck_random_state\u001b[0m\u001b[1;33m(\u001b[0m\u001b[0mself\u001b[0m\u001b[1;33m.\u001b[0m\u001b[0mrandom_state\u001b[0m\u001b[1;33m)\u001b[0m\u001b[1;33m\u001b[0m\u001b[1;33m\u001b[0m\u001b[0m\n",
      "\u001b[1;32m~\\Miniconda3\\lib\\site-packages\\sklearn\\metrics\\pairwise.py\u001b[0m in \u001b[0;36mpairwise_kernels\u001b[1;34m(X, Y, metric, filter_params, n_jobs, **kwds)\u001b[0m\n\u001b[0;32m   1743\u001b[0m         \u001b[1;32mraise\u001b[0m \u001b[0mValueError\u001b[0m\u001b[1;33m(\u001b[0m\u001b[1;34m\"Unknown kernel %r\"\u001b[0m \u001b[1;33m%\u001b[0m \u001b[0mmetric\u001b[0m\u001b[1;33m)\u001b[0m\u001b[1;33m\u001b[0m\u001b[1;33m\u001b[0m\u001b[0m\n\u001b[0;32m   1744\u001b[0m \u001b[1;33m\u001b[0m\u001b[0m\n\u001b[1;32m-> 1745\u001b[1;33m     \u001b[1;32mreturn\u001b[0m \u001b[0m_parallel_pairwise\u001b[0m\u001b[1;33m(\u001b[0m\u001b[0mX\u001b[0m\u001b[1;33m,\u001b[0m \u001b[0mY\u001b[0m\u001b[1;33m,\u001b[0m \u001b[0mfunc\u001b[0m\u001b[1;33m,\u001b[0m \u001b[0mn_jobs\u001b[0m\u001b[1;33m,\u001b[0m \u001b[1;33m**\u001b[0m\u001b[0mkwds\u001b[0m\u001b[1;33m)\u001b[0m\u001b[1;33m\u001b[0m\u001b[1;33m\u001b[0m\u001b[0m\n\u001b[0m",
      "\u001b[1;32m~\\Miniconda3\\lib\\site-packages\\sklearn\\metrics\\pairwise.py\u001b[0m in \u001b[0;36m_parallel_pairwise\u001b[1;34m(X, Y, func, n_jobs, **kwds)\u001b[0m\n\u001b[0;32m   1204\u001b[0m \u001b[1;33m\u001b[0m\u001b[0m\n\u001b[0;32m   1205\u001b[0m     \u001b[1;32mif\u001b[0m \u001b[0meffective_n_jobs\u001b[0m\u001b[1;33m(\u001b[0m\u001b[0mn_jobs\u001b[0m\u001b[1;33m)\u001b[0m \u001b[1;33m==\u001b[0m \u001b[1;36m1\u001b[0m\u001b[1;33m:\u001b[0m\u001b[1;33m\u001b[0m\u001b[1;33m\u001b[0m\u001b[0m\n\u001b[1;32m-> 1206\u001b[1;33m         \u001b[1;32mreturn\u001b[0m \u001b[0mfunc\u001b[0m\u001b[1;33m(\u001b[0m\u001b[0mX\u001b[0m\u001b[1;33m,\u001b[0m \u001b[0mY\u001b[0m\u001b[1;33m,\u001b[0m \u001b[1;33m**\u001b[0m\u001b[0mkwds\u001b[0m\u001b[1;33m)\u001b[0m\u001b[1;33m\u001b[0m\u001b[1;33m\u001b[0m\u001b[0m\n\u001b[0m\u001b[0;32m   1207\u001b[0m \u001b[1;33m\u001b[0m\u001b[0m\n\u001b[0;32m   1208\u001b[0m     \u001b[1;31m# enforce a threading backend to prevent data communication overhead\u001b[0m\u001b[1;33m\u001b[0m\u001b[1;33m\u001b[0m\u001b[1;33m\u001b[0m\u001b[0m\n",
      "\u001b[1;32m~\\Miniconda3\\lib\\site-packages\\sklearn\\metrics\\pairwise.py\u001b[0m in \u001b[0;36mrbf_kernel\u001b[1;34m(X, Y, gamma)\u001b[0m\n\u001b[0;32m    950\u001b[0m         \u001b[0mgamma\u001b[0m \u001b[1;33m=\u001b[0m \u001b[1;36m1.0\u001b[0m \u001b[1;33m/\u001b[0m \u001b[0mX\u001b[0m\u001b[1;33m.\u001b[0m\u001b[0mshape\u001b[0m\u001b[1;33m[\u001b[0m\u001b[1;36m1\u001b[0m\u001b[1;33m]\u001b[0m\u001b[1;33m\u001b[0m\u001b[1;33m\u001b[0m\u001b[0m\n\u001b[0;32m    951\u001b[0m \u001b[1;33m\u001b[0m\u001b[0m\n\u001b[1;32m--> 952\u001b[1;33m     \u001b[0mK\u001b[0m \u001b[1;33m=\u001b[0m \u001b[0meuclidean_distances\u001b[0m\u001b[1;33m(\u001b[0m\u001b[0mX\u001b[0m\u001b[1;33m,\u001b[0m \u001b[0mY\u001b[0m\u001b[1;33m,\u001b[0m \u001b[0msquared\u001b[0m\u001b[1;33m=\u001b[0m\u001b[1;32mTrue\u001b[0m\u001b[1;33m)\u001b[0m\u001b[1;33m\u001b[0m\u001b[1;33m\u001b[0m\u001b[0m\n\u001b[0m\u001b[0;32m    953\u001b[0m     \u001b[0mK\u001b[0m \u001b[1;33m*=\u001b[0m \u001b[1;33m-\u001b[0m\u001b[0mgamma\u001b[0m\u001b[1;33m\u001b[0m\u001b[1;33m\u001b[0m\u001b[0m\n\u001b[0;32m    954\u001b[0m     \u001b[0mnp\u001b[0m\u001b[1;33m.\u001b[0m\u001b[0mexp\u001b[0m\u001b[1;33m(\u001b[0m\u001b[0mK\u001b[0m\u001b[1;33m,\u001b[0m \u001b[0mK\u001b[0m\u001b[1;33m)\u001b[0m  \u001b[1;31m# exponentiate K in-place\u001b[0m\u001b[1;33m\u001b[0m\u001b[1;33m\u001b[0m\u001b[0m\n",
      "\u001b[1;32m~\\Miniconda3\\lib\\site-packages\\sklearn\\metrics\\pairwise.py\u001b[0m in \u001b[0;36meuclidean_distances\u001b[1;34m(X, Y, Y_norm_squared, squared, X_norm_squared)\u001b[0m\n\u001b[0;32m    271\u001b[0m     \u001b[1;32melse\u001b[0m\u001b[1;33m:\u001b[0m\u001b[1;33m\u001b[0m\u001b[1;33m\u001b[0m\u001b[0m\n\u001b[0;32m    272\u001b[0m         \u001b[1;31m# if dtype is already float64, no need to chunk and upcast\u001b[0m\u001b[1;33m\u001b[0m\u001b[1;33m\u001b[0m\u001b[1;33m\u001b[0m\u001b[0m\n\u001b[1;32m--> 273\u001b[1;33m         \u001b[0mdistances\u001b[0m \u001b[1;33m=\u001b[0m \u001b[1;33m-\u001b[0m \u001b[1;36m2\u001b[0m \u001b[1;33m*\u001b[0m \u001b[0msafe_sparse_dot\u001b[0m\u001b[1;33m(\u001b[0m\u001b[0mX\u001b[0m\u001b[1;33m,\u001b[0m \u001b[0mY\u001b[0m\u001b[1;33m.\u001b[0m\u001b[0mT\u001b[0m\u001b[1;33m,\u001b[0m \u001b[0mdense_output\u001b[0m\u001b[1;33m=\u001b[0m\u001b[1;32mTrue\u001b[0m\u001b[1;33m)\u001b[0m\u001b[1;33m\u001b[0m\u001b[1;33m\u001b[0m\u001b[0m\n\u001b[0m\u001b[0;32m    274\u001b[0m         \u001b[0mdistances\u001b[0m \u001b[1;33m+=\u001b[0m \u001b[0mXX\u001b[0m\u001b[1;33m\u001b[0m\u001b[1;33m\u001b[0m\u001b[0m\n\u001b[0;32m    275\u001b[0m         \u001b[0mdistances\u001b[0m \u001b[1;33m+=\u001b[0m \u001b[0mYY\u001b[0m\u001b[1;33m\u001b[0m\u001b[1;33m\u001b[0m\u001b[0m\n",
      "\u001b[1;32m~\\Miniconda3\\lib\\site-packages\\sklearn\\utils\\extmath.py\u001b[0m in \u001b[0;36msafe_sparse_dot\u001b[1;34m(a, b, dense_output)\u001b[0m\n\u001b[0;32m    140\u001b[0m         \u001b[1;32mreturn\u001b[0m \u001b[0mret\u001b[0m\u001b[1;33m\u001b[0m\u001b[1;33m\u001b[0m\u001b[0m\n\u001b[0;32m    141\u001b[0m     \u001b[1;32melse\u001b[0m\u001b[1;33m:\u001b[0m\u001b[1;33m\u001b[0m\u001b[1;33m\u001b[0m\u001b[0m\n\u001b[1;32m--> 142\u001b[1;33m         \u001b[1;32mreturn\u001b[0m \u001b[0mnp\u001b[0m\u001b[1;33m.\u001b[0m\u001b[0mdot\u001b[0m\u001b[1;33m(\u001b[0m\u001b[0ma\u001b[0m\u001b[1;33m,\u001b[0m \u001b[0mb\u001b[0m\u001b[1;33m)\u001b[0m\u001b[1;33m\u001b[0m\u001b[1;33m\u001b[0m\u001b[0m\n\u001b[0m\u001b[0;32m    143\u001b[0m \u001b[1;33m\u001b[0m\u001b[0m\n\u001b[0;32m    144\u001b[0m \u001b[1;33m\u001b[0m\u001b[0m\n",
      "\u001b[1;32m<__array_function__ internals>\u001b[0m in \u001b[0;36mdot\u001b[1;34m(*args, **kwargs)\u001b[0m\n",
      "\u001b[1;31mMemoryError\u001b[0m: Unable to allocate array with shape (207400, 207400) and data type float64"
     ]
    }
   ],
   "source": [
    "patch = 25\n",
    "PCsNum = 15\n",
    "ClusterNum = 20   \n",
    "HPCs = applyPCA(HSI,numComponents=PCsNum)\n",
    "\n",
    "start_time = time.process_time()\n",
    "clusterstack = np.zeros(HPCs.shape)\n",
    "\n",
    "cluster_algorithm = 'spectral'\n",
    "specluster = cluster.SpectralClustering(n_clusters=ClusterNum).fit(HPCs.reshape((-1, HPCs.shape[2])))\n",
    "clusterlabel = specluster.labels_.reshape((GT.shape))\n",
    "for i in range(ClusterNum):\n",
    "    clusterstack[clusterlabel==i]=np.mean(HPCs[clusterlabel==i], axis=0)\n",
    "    \n",
    "timeused = (time.process_time() - start_time)\n",
    "print(f'{cluster_algorithm}.  Clustering Time:{timeused}s.  # of Clusters:{np.max(clusterlabel)+1}')\n",
    "    \n",
    "X, y = createImageCubes(clusterstack, GT, windowSize=patch)\n",
    "Xtrain, Xtest, ytrain, ytest = train_test_split(X, y, test_size=test_ratio, random_state=345,stratify=y)\n",
    "ytrain = keras.utils.to_categorical(ytrain)\n",
    "\n",
    "## input layer\n",
    "IL = keras.Input(shape=(patch, patch, PCsNum), name='IL')\n",
    "C1 = keras.layers.Conv2D(filters=64, kernel_size=(5,5), activation='relu', name='C1')(IL)\n",
    "P1 = keras.layers.MaxPool2D()(C1)\n",
    "C2 = keras.layers.Conv2D(filters=64, kernel_size=(3,3), activation='relu', name='C2')(P1) \n",
    "P2 = keras.layers.MaxPool2D()(C2)\n",
    "## flatten\n",
    "FL = keras.layers.Flatten(name='FL')(P2)        \n",
    "## fully connected layers\n",
    "D1 = keras.layers.Dense(units=128, activation='relu', name='D1')(FL)\n",
    "D1 = keras.layers.Dropout(0.4, name='dropout1')(D1)\n",
    "D2 = keras.layers.Dense(units=64, activation='relu', name='D2')(D1)\n",
    "D2 = keras.layers.Dropout(0.4, name='dropout2')(D2)\n",
    "OL = keras.layers.Dense(units=ytrain.shape[1], activation='softmax', name='OL')(D2)\n",
    "        \n",
    "model = keras.models.Model(inputs=IL, outputs=OL, name='2DCNN_FCs')\n",
    "        \n",
    "# compiling the model\n",
    "adam = keras.optimizers.Adam(lr=0.001, decay=1e-06)\n",
    "model.compile(loss='categorical_crossentropy', optimizer=adam, metrics=['accuracy'])\n",
    "\n",
    "for j in range(1):\n",
    "    time3 = int(time.time())\n",
    "    # training\n",
    "    model.fit(x=Xtrain, y=ytrain, batch_size=64, epochs=100, verbose=0)\n",
    "    time4 = int(time.time())\n",
    "    \n",
    "    # predic\n",
    "    y_pred = np.argmax(model.predict(Xtest), axis=1)\n",
    "    oa = accuracy_score(ytest, y_pred)\n",
    "    kappa = cohen_kappa_score(ytest, y_pred)\n",
    "\n",
    "    print('ClusterCNN:', oa, kappa, ' Training Time:', time4-time3)"
   ]
  },
  {
   "cell_type": "markdown",
   "metadata": {
    "toc-hr-collapsed": true,
    "toc-nb-collapsed": true
   },
   "source": [
    "## ClusterCNN without Clustering"
   ]
  },
  {
   "cell_type": "code",
   "execution_count": 2,
   "metadata": {},
   "outputs": [
    {
     "name": "stdout",
     "output_type": "stream",
     "text": [
      "Just CNN: 0.9985713914647134 0.9981068585319672  Training Time: 86\n"
     ]
    }
   ],
   "source": [
    "patch = 25\n",
    "PCsNum = 15\n",
    "HPCs = applyPCA(HSI,numComponents=PCsNum)\n",
    "\n",
    "clusterstack = HPCs\n",
    "    \n",
    "X, y = createImageCubes(clusterstack, GT, windowSize=patch)\n",
    "Xtrain, Xtest, ytrain, ytest = train_test_split(X, y, test_size=test_ratio, random_state=345,stratify=y)\n",
    "ytrain = keras.utils.to_categorical(ytrain)\n",
    "\n",
    "## input layer\n",
    "IL = keras.Input(shape=(patch, patch, PCsNum), name='IL')\n",
    "C1 = keras.layers.Conv2D(filters=64, kernel_size=(5,5), activation='relu', name='C1')(IL)\n",
    "P1 = keras.layers.MaxPool2D()(C1)\n",
    "C2 = keras.layers.Conv2D(filters=64, kernel_size=(3,3), activation='relu', name='C2')(P1) \n",
    "P2 = keras.layers.MaxPool2D()(C2)\n",
    "## flatten\n",
    "FL = keras.layers.Flatten(name='FL')(P2)        \n",
    "## fully connected layers\n",
    "D1 = keras.layers.Dense(units=128, activation='relu', name='D1')(FL)\n",
    "D1 = keras.layers.Dropout(0.4, name='dropout1')(D1)\n",
    "D2 = keras.layers.Dense(units=64, activation='relu', name='D2')(D1)\n",
    "D2 = keras.layers.Dropout(0.4, name='dropout2')(D2)\n",
    "OL = keras.layers.Dense(units=ytrain.shape[1], activation='softmax', name='OL')(D2)\n",
    "        \n",
    "model = keras.models.Model(inputs=IL, outputs=OL, name='2DCNN_FCs')\n",
    "        \n",
    "# compiling the model\n",
    "adam = keras.optimizers.Adam(lr=0.001, decay=1e-06)\n",
    "model.compile(loss='categorical_crossentropy', optimizer=adam, metrics=['accuracy'])\n",
    "\n",
    "for j in range(1):\n",
    "    time3 = int(time.time())\n",
    "    # training\n",
    "    model.fit(x=Xtrain, y=ytrain, batch_size=64, epochs=100, verbose=0)\n",
    "    time4 = int(time.time())\n",
    "    \n",
    "    # predic\n",
    "    y_pred = np.argmax(model.predict(Xtest), axis=1)\n",
    "    oa = accuracy_score(ytest, y_pred)\n",
    "    kappa = cohen_kappa_score(ytest, y_pred)\n",
    "\n",
    "    print('Just CNN:', oa, kappa, ' Training Time:', time4-time3)"
   ]
  },
  {
   "cell_type": "markdown",
   "metadata": {},
   "source": [
    "## ClusterCNN with 1ofK Clustering Expression"
   ]
  },
  {
   "cell_type": "code",
   "execution_count": 2,
   "metadata": {},
   "outputs": [
    {
     "name": "stdout",
     "output_type": "stream",
     "text": [
      "minibatchKmeans Clustering Time:  1.578125 s.  # of Clusters: 15\n",
      "ClusterCNN: 0.9963375672095379 0.9951479675667266  Training Time: 103.640625\n"
     ]
    }
   ],
   "source": [
    "patch = 25\n",
    "PCsNum = 15\n",
    "ClusterNum = 15    \n",
    "HPCs = applyPCA(HSI,numComponents=PCsNum)\n",
    "\n",
    "start_time = time.process_time()\n",
    "\n",
    "cluster_algorithm = 'minibatchKmeans'\n",
    "mbk_means = cluster.MiniBatchKMeans(n_clusters=ClusterNum).fit(HPCs.reshape((-1, HPCs.shape[2])))\n",
    "clusterlabel = mbk_means.labels_.reshape((GT.shape))\n",
    "clusterstack = keras.utils.to_categorical(clusterlabel) \n",
    "timeused = (time.process_time() - start_time)\n",
    "print(cluster_algorithm, 'Clustering Time: ', timeused, 's.  # of Clusters:', np.max(clusterlabel)+1)\n",
    "\n",
    "X, y = createImageCubes(clusterstack, GT, windowSize=patch)\n",
    "Xtrain, Xtest, ytrain, ytest = train_test_split(X, y, test_size=test_ratio, random_state=345,stratify=y)\n",
    "ytrain = keras.utils.to_categorical(ytrain)\n",
    "\n",
    "## input layer\n",
    "IL = keras.Input(shape=(patch, patch, ClusterNum), name='IL')\n",
    "C1 = keras.layers.Conv2D(filters=64, kernel_size=(5,5), activation='relu', name='C1')(IL)\n",
    "P1 = keras.layers.MaxPool2D()(C1)\n",
    "C2 = keras.layers.Conv2D(filters=64, kernel_size=(3,3), activation='relu', name='C2')(P1) \n",
    "P2 = keras.layers.MaxPool2D()(C2)\n",
    "## flatten\n",
    "FL = keras.layers.Flatten(name='FL')(P2)        \n",
    "## fully connected layers\n",
    "D1 = keras.layers.Dense(units=128, activation='relu', name='D1')(FL)\n",
    "D1 = keras.layers.Dropout(0.4, name='dropout1')(D1)\n",
    "D2 = keras.layers.Dense(units=64, activation='relu', name='D2')(D1)\n",
    "D2 = keras.layers.Dropout(0.4, name='dropout2')(D2)\n",
    "OL = keras.layers.Dense(units=ytrain.shape[1], activation='softmax', name='OL')(D2)\n",
    "\n",
    "model = keras.models.Model(inputs=IL, outputs=OL, name='2DCNN_FCs')\n",
    "\n",
    "# compiling the model\n",
    "adam = keras.optimizers.Adam(lr=0.001, decay=1e-06)\n",
    "model.compile(loss='categorical_crossentropy', optimizer=adam, metrics=['accuracy'])\n",
    "\n",
    "start_time = time.process_time()\n",
    "# training\n",
    "model.fit(x=Xtrain, y=ytrain, batch_size=256, epochs=100, verbose=0)\n",
    "training_time = time.process_time()-start_time\n",
    "\n",
    "# predict\n",
    "y_pred = np.argmax(model.predict(Xtest), axis=1)\n",
    "oa = accuracy_score(ytest, y_pred)\n",
    "kappa = cohen_kappa_score(ytest, y_pred)\n",
    "\n",
    "print('ClusterCNN:', oa, kappa, ' Training Time:', training_time)"
   ]
  },
  {
   "cell_type": "markdown",
   "metadata": {},
   "source": [
    "# UnmixingCNN"
   ]
  },
  {
   "cell_type": "markdown",
   "metadata": {},
   "source": [
    "A Python3 library for basic unmixing functions: https://github.com/etienne-monier/lib-unmixing  \n",
    "Robust-NMF: https://github.com/neel-dey/robust-nmf  \n",
    "ELMM & social norms: https://github.com/ldrumetz"
   ]
  },
  {
   "cell_type": "code",
   "execution_count": null,
   "metadata": {},
   "outputs": [],
   "source": [
    "# 基于pytorch的unmixing\n",
    "import torch\n",
    "from LibUnmixing import rnmf_torch\n",
    "\n",
    "patch = 25\n",
    "PCsNum = 15\n",
    "HPCs = applyPCA(HSI,numComponents=PCsNum)\n",
    "device = torch.device(\"cuda\" if torch.cuda.is_available() else \"cpu\")\n",
    "HPCs = torch.from_numpy(HPCs*0.05 + 6).float().to(device)\n",
    "_, coeff, _, _ = rnmf_numpy.robust_nmf(data=HPCs.reshape(-1,PCsNum).T, rank=PCsNum, beta=1.5, reg_val=1, sum_to_one=1)"
   ]
  },
  {
   "cell_type": "code",
   "execution_count": 2,
   "metadata": {},
   "outputs": [
    {
     "name": "stderr",
     "output_type": "stream",
     "text": [
      "C:\\Users\\hevig\\Miniconda3\\lib\\site-packages\\sklearn\\utils\\deprecation.py:144: FutureWarning: The sklearn.decomposition.nmf module is  deprecated in version 0.22 and will be removed in version 0.24. The corresponding classes / functions should instead be imported from sklearn.decomposition. Anything that cannot be imported from sklearn.decomposition is now part of the private API.\n",
      "  warnings.warn(message, FutureWarning)\n"
     ]
    },
    {
     "name": "stdout",
     "output_type": "stream",
     "text": [
      "Initializing rNMF uniformly at random.\n",
      "Iter = 0; Obj = 1475416.9297868833\n",
      "Iter = 100; Obj = 3912.4473343576865; Err = 0.015729731152012108\n",
      "Iter = 200; Obj = 1551.8463062996962; Err = 0.005008916448288215\n",
      "Iter = 300; Obj = 1141.3356810085188; Err = 0.0017754878052168716\n",
      "Iter = 400; Obj = 1016.0074163617171; Err = 0.0007429637962627082\n",
      "Iter = 500; Obj = 963.9826844181962; Err = 0.0003686186787709258\n",
      "Iter = 600; Obj = 937.5786238476079; Err = 0.00020855132760839\n",
      "Iter = 700; Obj = 922.2983822277364; Err = 0.00012919028231047898\n",
      "Iter = 800; Obj = 912.6675624280581; Err = 8.514312254877367e-05\n",
      "Iter = 900; Obj = 906.2314675577193; Err = 5.8779215188313146e-05\n",
      "Iter = 1000; Obj = 901.7264577172554; Err = 4.2302177757944224e-05\n",
      "Maximum number of iterations achieved\n"
     ]
    }
   ],
   "source": [
    "# 基于numpy的unmixing\n",
    "from LibUnmixing import rnmf_numpy\n",
    "\n",
    "patch = 25\n",
    "PCsNum = 15\n",
    "HPCs = applyPCA(HSI,numComponents=PCsNum)\n",
    "HPCs = (HPCs*0.05 + 5).astype(np.float32)\n",
    "_, coeff, _, _ = rnmf_numpy.robust_nmf(data=HPCs.reshape(-1,PCsNum).T, rank=PCsNum, beta=1.5, reg_val=1, sum_to_one=0)"
   ]
  },
  {
   "cell_type": "code",
   "execution_count": 3,
   "metadata": {},
   "outputs": [
    {
     "name": "stdout",
     "output_type": "stream",
     "text": [
      "ClusterCNN: 0.9376087690589366 0.9175131519863402  Training Time: 110.0\n",
      "ClusterCNN: 0.9561287306163796 0.9420706214834399  Training Time: 107.671875\n",
      "ClusterCNN: 0.9596872646042754 0.9465647237152662  Training Time: 104.84375\n",
      "ClusterCNN: 0.9087508766461466 0.8784307729369  Training Time: 100.296875\n",
      "ClusterCNN: 0.9257902802670199 0.9017708080533953  Training Time: 102.765625\n"
     ]
    }
   ],
   "source": [
    "X, y = createImageCubes(coeff.T.reshape(HPCs.shape), GT, windowSize=patch)\n",
    "Xtrain, Xtest, ytrain, ytest = train_test_split(X, y, test_size=test_ratio, random_state=345,stratify=y)\n",
    "ytrain = keras.utils.to_categorical(ytrain)\n",
    "\n",
    "## input layer\n",
    "IL = keras.Input(shape=(patch, patch, PCsNum), name='IL')\n",
    "C1 = keras.layers.Conv2D(filters=64, kernel_size=(5,5), activation='relu', name='C1')(IL)\n",
    "P1 = keras.layers.MaxPool2D()(C1)\n",
    "C2 = keras.layers.Conv2D(filters=64, kernel_size=(3,3), activation='relu', name='C2')(P1) \n",
    "P2 = keras.layers.MaxPool2D()(C2)\n",
    "## flatten\n",
    "FL = keras.layers.Flatten(name='FL')(P2)        \n",
    "## fully connected layers\n",
    "D1 = keras.layers.Dense(units=128, activation='relu', name='D1')(FL)\n",
    "D1 = keras.layers.Dropout(0.4, name='dropout1')(D1)\n",
    "D2 = keras.layers.Dense(units=64, activation='relu', name='D2')(D1)\n",
    "D2 = keras.layers.Dropout(0.4, name='dropout2')(D2)\n",
    "OL = keras.layers.Dense(units=ytrain.shape[1], activation='softmax', name='OL')(D2)\n",
    "        \n",
    "model = keras.models.Model(inputs=IL, outputs=OL, name='2DCNN_FCs')\n",
    "        \n",
    "# compiling the model\n",
    "adam = keras.optimizers.Adam(lr=0.001, decay=1e-06)\n",
    "model.compile(loss='categorical_crossentropy', optimizer=adam, metrics=['accuracy'])\n",
    "\n",
    "for i in range(5):\n",
    "    start_time = time.process_time()\n",
    "    # training\n",
    "    model.fit(x=Xtrain, y=ytrain, batch_size=256, epochs=100, verbose=0)\n",
    "    training_time = time.process_time()-start_time\n",
    "\n",
    "    # predict\n",
    "    y_pred = np.argmax(model.predict(Xtest), axis=1)\n",
    "    oa = accuracy_score(ytest, y_pred)\n",
    "    kappa = cohen_kappa_score(ytest, y_pred)\n",
    "\n",
    "    print('ClusterCNN:', oa, kappa, ' Training Time:', training_time)"
   ]
  },
  {
   "cell_type": "markdown",
   "metadata": {
    "toc-hr-collapsed": true,
    "toc-nb-collapsed": true
   },
   "source": [
    "# PatchSize Study"
   ]
  },
  {
   "cell_type": "code",
   "execution_count": 12,
   "metadata": {},
   "outputs": [
    {
     "name": "stdout",
     "output_type": "stream",
     "text": [
      "PatchSize: 7 Clustering Time: 2\n",
      "ClusterCNN: 0.9105691056910569 0.8816097409211088  Training Time: 11\n",
      "PatchSize: 9 Clustering Time: 3\n",
      "ClusterCNN: 0.9655055975479883 0.9543354052535001  Training Time: 12\n",
      "PatchSize: 11 Clustering Time: 3\n",
      "ClusterCNN: 0.9828566975765605 0.9772958877786196  Training Time: 17\n",
      "PatchSize: 13 Clustering Time: 1\n",
      "ClusterCNN: 0.9853502688381517 0.9805807740195652  Training Time: 22\n",
      "PatchSize: 15 Clustering Time: 2\n",
      "ClusterCNN: 0.994986882776176 0.9933615049001331  Training Time: 31\n",
      "PatchSize: 17 Clustering Time: 2\n",
      "ClusterCNN: 0.9963115925088963 0.9951137942897778  Training Time: 36\n",
      "PatchSize: 19 Clustering Time: 3\n",
      "ClusterCNN: 0.9948310345723266 0.9931544969261642  Training Time: 44\n",
      "PatchSize: 21 Clustering Time: 3\n",
      "ClusterCNN: 0.9964934154133873 0.9953554940989772  Training Time: 55\n"
     ]
    }
   ],
   "source": [
    "PCsNum = 15\n",
    "ClusterNum = 150    \n",
    "HPCs,pca = applyPCA(HSI,numComponents=PCsNum)\n",
    "\n",
    "for windowSize in [7, 9, 11, 13, 15, 17, 19, 21]:\n",
    "\n",
    "    time1 = int(time.time())\n",
    "    clusterstack = np.zeros(HPCs.shape)\n",
    "    mbk_means = cluster.MiniBatchKMeans(n_clusters=ClusterNum, n_init=4).fit(HSI.reshape((-1, HSI.shape[2])))\n",
    "    clusterlabel = mbk_means.labels_.reshape((GT.shape))\n",
    "    for i in range(ClusterNum):\n",
    "        clusterstack[clusterlabel==i]=np.mean(HPCs[clusterlabel==i], axis=0)            \n",
    "    time2 = int(time.time())\n",
    "    print('PatchSize:', windowSize, 'Clustering Time:', time2-time1)\n",
    "\n",
    "    X, y = createImageCubes(clusterstack, GT, windowSize=windowSize)\n",
    "    Xtrain, Xtest, ytrain, ytest = train_test_split(X, y, test_size=test_ratio, random_state=345,stratify=y)\n",
    "    ytrain = keras.utils.to_categorical(ytrain)\n",
    "\n",
    "    ## input layer\n",
    "    IL = keras.Input(shape=(windowSize, windowSize, PCsNum), name='IL')\n",
    "    C1 = keras.layers.Conv2D(filters=64, kernel_size=(5,5), activation='relu', name='C1')(IL)\n",
    "    C2 = keras.layers.Conv2D(filters=64, kernel_size=(3,3), activation='relu', name='C2')(C1)        \n",
    "    ## flatten\n",
    "    FL = keras.layers.Flatten(name='FL')(C2)        \n",
    "    ## fully connected layers\n",
    "    D1 = keras.layers.Dense(units=256, activation='relu', name='D1')(FL)\n",
    "    D1 = keras.layers.Dropout(0.4, name='dropout1')(D1)\n",
    "    D2 = keras.layers.Dense(units=128, activation='relu', name='D2')(D1)\n",
    "    D2 = keras.layers.Dropout(0.4, name='dropout2')(D2)\n",
    "    OL = keras.layers.Dense(units=ytrain.shape[1], activation='softmax', name='OL')(D2)\n",
    "\n",
    "    model = keras.models.Model(inputs=IL, outputs=OL, name='2DCNN_FCs')\n",
    "        \n",
    "    # compiling the model\n",
    "    adam = keras.optimizers.Adam(lr=0.001, decay=1e-06)\n",
    "    model.compile(loss='categorical_crossentropy', optimizer=adam, metrics=['accuracy'])\n",
    "\n",
    "    for j in range(1):\n",
    "        time3 = int(time.time())\n",
    "        # training\n",
    "        model.fit(x=Xtrain, y=ytrain, batch_size=256, epochs=100, verbose=0)\n",
    "        time4 = int(time.time())\n",
    "\n",
    "        # predic\n",
    "        y_pred = np.argmax(model.predict(Xtest), axis=1)\n",
    "        oa = accuracy_score(ytest, y_pred)\n",
    "        kappa = cohen_kappa_score(ytest, y_pred)\n",
    "\n",
    "        print('ClusterCNN:', oa, kappa, ' Training Time:', time4-time3)"
   ]
  },
  {
   "cell_type": "markdown",
   "metadata": {
    "toc-hr-collapsed": true,
    "toc-nb-collapsed": true
   },
   "source": [
    "# Auto Search\n",
    "Grid Search for the opitimal PCA and Clustering parameters"
   ]
  },
  {
   "cell_type": "code",
   "execution_count": 3,
   "metadata": {},
   "outputs": [
    {
     "name": "stdout",
     "output_type": "stream",
     "text": [
      "5 2 0.8412426296786929 132.4375 s\n",
      "5 4 0.9461284708693732 134.296875 s\n",
      "5 8 0.9909608041767318 131.421875 s\n",
      "5 16 0.9928309826229252 131.5625 s\n",
      "5 32 0.9928050079222837 137.109375 s\n",
      "5 64 0.9922855139094522 133.4375 s\n",
      "5 128 0.9963375672095379 136.125 s\n",
      "10 2 0.8413725031819008 171.0 s\n",
      "10 4 0.9817138107483311 174.359375 s\n",
      "10 8 0.985635990545209 173.671875 s\n",
      "10 16 0.9944673887633445 181.21875 s\n",
      "10 32 0.9970388841268605 174.671875 s\n",
      "10 64 0.9962336684069716 176.65625 s\n",
      "10 128 0.9976882516428999 170.25 s\n"
     ]
    },
    {
     "ename": "MemoryError",
     "evalue": "Unable to allocate array with shape (42776, 25, 25, 15) and data type float64",
     "output_type": "error",
     "traceback": [
      "\u001b[1;31m---------------------------------------------------------------------------\u001b[0m",
      "\u001b[1;31mMemoryError\u001b[0m                               Traceback (most recent call last)",
      "\u001b[1;32m<ipython-input-3-d83504f05de7>\u001b[0m in \u001b[0;36m<module>\u001b[1;34m\u001b[0m\n\u001b[0;32m     11\u001b[0m             \u001b[0mclusterstack\u001b[0m\u001b[1;33m[\u001b[0m\u001b[0mclusterlabel\u001b[0m\u001b[1;33m==\u001b[0m\u001b[0mi\u001b[0m\u001b[1;33m]\u001b[0m\u001b[1;33m=\u001b[0m\u001b[0mnp\u001b[0m\u001b[1;33m.\u001b[0m\u001b[0mmean\u001b[0m\u001b[1;33m(\u001b[0m\u001b[0mHPCs\u001b[0m\u001b[1;33m[\u001b[0m\u001b[0mclusterlabel\u001b[0m\u001b[1;33m==\u001b[0m\u001b[0mi\u001b[0m\u001b[1;33m]\u001b[0m\u001b[1;33m,\u001b[0m \u001b[0maxis\u001b[0m\u001b[1;33m=\u001b[0m\u001b[1;36m0\u001b[0m\u001b[1;33m)\u001b[0m\u001b[1;33m\u001b[0m\u001b[1;33m\u001b[0m\u001b[0m\n\u001b[0;32m     12\u001b[0m \u001b[1;33m\u001b[0m\u001b[0m\n\u001b[1;32m---> 13\u001b[1;33m         \u001b[0mX\u001b[0m\u001b[1;33m,\u001b[0m \u001b[0my\u001b[0m \u001b[1;33m=\u001b[0m \u001b[0mcreateImageCubes\u001b[0m\u001b[1;33m(\u001b[0m\u001b[0mclusterstack\u001b[0m\u001b[1;33m,\u001b[0m \u001b[0mGT\u001b[0m\u001b[1;33m,\u001b[0m \u001b[0mwindowSize\u001b[0m\u001b[1;33m=\u001b[0m\u001b[0mwindowSize\u001b[0m\u001b[1;33m)\u001b[0m\u001b[1;33m\u001b[0m\u001b[1;33m\u001b[0m\u001b[0m\n\u001b[0m\u001b[0;32m     14\u001b[0m         \u001b[0mXtrain\u001b[0m\u001b[1;33m,\u001b[0m \u001b[0mXtest\u001b[0m\u001b[1;33m,\u001b[0m \u001b[0mytrain\u001b[0m\u001b[1;33m,\u001b[0m \u001b[0mytest\u001b[0m \u001b[1;33m=\u001b[0m \u001b[0mtrain_test_split\u001b[0m\u001b[1;33m(\u001b[0m\u001b[0mX\u001b[0m\u001b[1;33m,\u001b[0m \u001b[0my\u001b[0m\u001b[1;33m,\u001b[0m \u001b[0mtest_size\u001b[0m\u001b[1;33m=\u001b[0m\u001b[0mtest_ratio\u001b[0m\u001b[1;33m,\u001b[0m \u001b[0mrandom_state\u001b[0m\u001b[1;33m=\u001b[0m\u001b[1;36m345\u001b[0m\u001b[1;33m,\u001b[0m\u001b[0mstratify\u001b[0m\u001b[1;33m=\u001b[0m\u001b[0my\u001b[0m\u001b[1;33m)\u001b[0m\u001b[1;33m\u001b[0m\u001b[1;33m\u001b[0m\u001b[0m\n\u001b[0;32m     15\u001b[0m         \u001b[0mytrain\u001b[0m \u001b[1;33m=\u001b[0m \u001b[0mkeras\u001b[0m\u001b[1;33m.\u001b[0m\u001b[0mutils\u001b[0m\u001b[1;33m.\u001b[0m\u001b[0mto_categorical\u001b[0m\u001b[1;33m(\u001b[0m\u001b[0mytrain\u001b[0m\u001b[1;33m)\u001b[0m\u001b[1;33m\u001b[0m\u001b[1;33m\u001b[0m\u001b[0m\n",
      "\u001b[1;32m<ipython-input-1-553d73a77646>\u001b[0m in \u001b[0;36mcreateImageCubes\u001b[1;34m(X, y, windowSize, removeZeroLabels)\u001b[0m\n\u001b[0;32m     60\u001b[0m             \u001b[0mpatchIndex\u001b[0m \u001b[1;33m=\u001b[0m \u001b[0mpatchIndex\u001b[0m \u001b[1;33m+\u001b[0m \u001b[1;36m1\u001b[0m\u001b[1;33m\u001b[0m\u001b[1;33m\u001b[0m\u001b[0m\n\u001b[0;32m     61\u001b[0m     \u001b[1;32mif\u001b[0m \u001b[0mremoveZeroLabels\u001b[0m\u001b[1;33m:\u001b[0m\u001b[1;33m\u001b[0m\u001b[1;33m\u001b[0m\u001b[0m\n\u001b[1;32m---> 62\u001b[1;33m         \u001b[0mpatchesData\u001b[0m \u001b[1;33m=\u001b[0m \u001b[0mpatchesData\u001b[0m\u001b[1;33m[\u001b[0m\u001b[0mpatchesLabels\u001b[0m\u001b[1;33m>\u001b[0m\u001b[1;36m0\u001b[0m\u001b[1;33m,\u001b[0m\u001b[1;33m:\u001b[0m\u001b[1;33m,\u001b[0m\u001b[1;33m:\u001b[0m\u001b[1;33m,\u001b[0m\u001b[1;33m:\u001b[0m\u001b[1;33m]\u001b[0m\u001b[1;33m\u001b[0m\u001b[1;33m\u001b[0m\u001b[0m\n\u001b[0m\u001b[0;32m     63\u001b[0m         \u001b[0mpatchesLabels\u001b[0m \u001b[1;33m=\u001b[0m \u001b[0mpatchesLabels\u001b[0m\u001b[1;33m[\u001b[0m\u001b[0mpatchesLabels\u001b[0m\u001b[1;33m>\u001b[0m\u001b[1;36m0\u001b[0m\u001b[1;33m]\u001b[0m\u001b[1;33m\u001b[0m\u001b[1;33m\u001b[0m\u001b[0m\n\u001b[0;32m     64\u001b[0m         \u001b[0mpatchesLabels\u001b[0m \u001b[1;33m-=\u001b[0m \u001b[1;36m1\u001b[0m\u001b[1;33m\u001b[0m\u001b[1;33m\u001b[0m\u001b[0m\n",
      "\u001b[1;31mMemoryError\u001b[0m: Unable to allocate array with shape (42776, 25, 25, 15) and data type float64"
     ]
    }
   ],
   "source": [
    "windowSize = 17\n",
    "for PCsNum in [5, 10, 15, 20, 25, 30]:\n",
    "    HPCs,pca = applyPCA(HSI,numComponents=PCsNum)\n",
    "    clusterstack = np.zeros(HPCs.shape)\n",
    "    for ClusterNum in [2, 4, 8, 16, 32, 64, 128]:\n",
    "        start = time.process_time()\n",
    "        \n",
    "        mbk_means = cluster.MiniBatchKMeans(n_clusters=ClusterNum, n_init=4).fit(HSI.reshape((-1, HSI.shape[2])))\n",
    "        clusterlabel = mbk_means.labels_.reshape((GT.shape))\n",
    "        for i in range(ClusterNum):\n",
    "            clusterstack[clusterlabel==i]=np.mean(HPCs[clusterlabel==i], axis=0)\n",
    "            \n",
    "        X, y = createImageCubes(clusterstack, GT, windowSize=windowSize)\n",
    "        Xtrain, Xtest, ytrain, ytest = train_test_split(X, y, test_size=test_ratio, random_state=345,stratify=y)\n",
    "        ytrain = keras.utils.to_categorical(ytrain)\n",
    "        \n",
    "        ## input layer\n",
    "        IL = keras.Input(shape=(windowSize, windowSize, PCsNum), name='IL')\n",
    "        C1 = keras.layers.Conv2D(filters=64, kernel_size=(5,5), activation='relu', name='C1')(IL)\n",
    "        C2 = keras.layers.Conv2D(filters=64, kernel_size=(3,3), activation='relu', name='C2')(C1)        \n",
    "        ## flatten\n",
    "        FL = keras.layers.Flatten(name='FL')(C2)        \n",
    "        ## fully connected layers\n",
    "        D1 = keras.layers.Dense(units=256, activation='relu', name='D1')(FL)\n",
    "        D1 = keras.layers.Dropout(0.4, name='dropout1')(D1)\n",
    "        D2 = keras.layers.Dense(units=128, activation='relu', name='D2')(D1)\n",
    "        D2 = keras.layers.Dropout(0.4, name='dropout2')(D2)\n",
    "        OL = keras.layers.Dense(units=ytrain.shape[1], activation='softmax', name='OL')(D2)\n",
    "        \n",
    "        model = keras.models.Model(inputs=IL, outputs=OL, name='2DCNN_FCs')\n",
    "        \n",
    "        # compiling the model\n",
    "        adam = keras.optimizers.Adam(lr=0.001, decay=1e-06)\n",
    "        model.compile(loss='categorical_crossentropy', optimizer=adam, metrics=['accuracy'])\n",
    "        model.fit(x=Xtrain, y=ytrain, batch_size=128, epochs=100, verbose=0)\n",
    "        \n",
    "        # predic\n",
    "        y_pred = np.argmax(model.predict(Xtest), axis=1)\n",
    "        oa = accuracy_score(ytest, y_pred)\n",
    "        \n",
    "        timeused = (time.process_time() - start)\n",
    "        \n",
    "        print(PCsNum, ClusterNum, oa, timeused,'s')"
   ]
  },
  {
   "cell_type": "code",
   "execution_count": 5,
   "metadata": {},
   "outputs": [
    {
     "name": "stdout",
     "output_type": "stream",
     "text": [
      "10 2 0.7449284396997324 107.109375 s\n",
      "10 4 0.9286994467388764 117.78125 s\n",
      "10 8 0.9786487960726252 112.640625 s\n",
      "10 16 0.9902335125587678 111.78125 s\n",
      "10 32 0.9946232369671939 113.375 s\n",
      "10 48 0.991869918699187 114.828125 s\n",
      "10 64 0.9887789293228395 121.875 s\n",
      "10 80 0.9825969505701447 113.59375 s\n",
      "10 96 0.9911166523805813 109.296875 s\n",
      "10 112 0.9843632302137718 118.546875 s\n",
      "10 128 0.9916101716927712 115.515625 s\n"
     ]
    }
   ],
   "source": [
    "windowSize = 21\n",
    "PCsNum = 10\n",
    "HPCs,pca = applyPCA(HSI,numComponents=PCsNum)\n",
    "clusterstack = np.zeros(HPCs.shape)\n",
    "ClusterNum = [2, 4, 8, 16, 32, 48, 64, 80, 96, 112, 128]\n",
    "oa1 = np.zeros(len(ClusterNum))\n",
    "for i in range(len(ClusterNum)):\n",
    "    start = time.process_time()\n",
    "\n",
    "    mbk_means = cluster.MiniBatchKMeans(n_clusters=ClusterNum[i], n_init=4).fit(HSI.reshape((-1, HSI.shape[2])))\n",
    "    clusterlabel = mbk_means.labels_.reshape((GT.shape))\n",
    "    for k in range(ClusterNum[i]):\n",
    "        clusterstack[clusterlabel==k]=np.mean(HPCs[clusterlabel==k], axis=0)\n",
    "\n",
    "    X, y = createImageCubes(clusterstack, GT, windowSize=windowSize)\n",
    "    Xtrain, Xtest, ytrain, ytest = train_test_split(X, y, test_size=test_ratio, random_state=345,stratify=y)\n",
    "    ytrain = keras.utils.to_categorical(ytrain)\n",
    "\n",
    "    ## input layer\n",
    "    IL = keras.Input(shape=(windowSize, windowSize, PCsNum), name='IL')\n",
    "    C1 = keras.layers.Conv2D(filters=64, kernel_size=(5,5), activation='relu', name='C1')(IL)\n",
    "    C2 = keras.layers.Conv2D(filters=64, kernel_size=(3,3), activation='relu', name='C2')(C1)        \n",
    "    ## flatten\n",
    "    FL = keras.layers.Flatten(name='FL')(C2)        \n",
    "    ## fully connected layers\n",
    "    D1 = keras.layers.Dense(units=256, activation='relu', name='D1')(FL)\n",
    "    D1 = keras.layers.Dropout(0.4, name='dropout1')(D1)\n",
    "    D2 = keras.layers.Dense(units=128, activation='relu', name='D2')(D1)\n",
    "    D2 = keras.layers.Dropout(0.4, name='dropout2')(D2)\n",
    "    OL = keras.layers.Dense(units=ytrain.shape[1], activation='softmax', name='OL')(D2)\n",
    "\n",
    "    model = keras.models.Model(inputs=IL, outputs=OL, name='2DCNN_FCs')\n",
    "\n",
    "    # compiling the model\n",
    "    adam = keras.optimizers.Adam(lr=0.001, decay=1e-06)\n",
    "    model.compile(loss='categorical_crossentropy', optimizer=adam, metrics=['accuracy'])\n",
    "    model.fit(x=Xtrain, y=ytrain, batch_size=32, epochs=50, verbose=0)\n",
    "\n",
    "    # predic\n",
    "    y_pred = np.argmax(model.predict(Xtest), axis=1)\n",
    "    oa1[i] = accuracy_score(ytest, y_pred)\n",
    "\n",
    "    timeused = (time.process_time() - start)\n",
    "\n",
    "    print(PCsNum, ClusterNum[i], oa1[i], timeused,'s')"
   ]
  },
  {
   "cell_type": "code",
   "execution_count": 6,
   "metadata": {},
   "outputs": [
    {
     "data": {
      "text/plain": [
       "array([74.49, 92.87, 97.86, 99.02, 99.46, 99.19, 98.88, 98.26, 99.11,\n",
       "       98.44, 99.16])"
      ]
     },
     "execution_count": 6,
     "metadata": {},
     "output_type": "execute_result"
    }
   ],
   "source": [
    "np.round(oa1*100, 2)"
   ]
  },
  {
   "cell_type": "code",
   "execution_count": 3,
   "metadata": {},
   "outputs": [
    {
     "name": "stdout",
     "output_type": "stream",
     "text": [
      "1 100 0.9446998623340866 98.734375 s\n",
      "2 100 0.9822073300605211 79.46875 s\n",
      "5 100 0.9878438400997428 84.625 s\n",
      "10 100 0.988934777526689 106.25 s\n",
      "15 100 0.9918958933998285 125.75 s\n",
      "20 100 0.9932206031325489 157.921875 s\n",
      "25 100 0.9918958933998285 164.640625 s\n"
     ]
    },
    {
     "ename": "MemoryError",
     "evalue": "Unable to allocate array with shape (42776, 17, 17, 30) and data type float64",
     "output_type": "error",
     "traceback": [
      "\u001b[1;31m---------------------------------------------------------------------------\u001b[0m",
      "\u001b[1;31mMemoryError\u001b[0m                               Traceback (most recent call last)",
      "\u001b[1;32m<ipython-input-3-bd12c81392cb>\u001b[0m in \u001b[0;36m<module>\u001b[1;34m\u001b[0m\n\u001b[0;32m     14\u001b[0m         \u001b[0mclusterstack\u001b[0m\u001b[1;33m[\u001b[0m\u001b[0mclusterlabel\u001b[0m\u001b[1;33m==\u001b[0m\u001b[0mk\u001b[0m\u001b[1;33m]\u001b[0m\u001b[1;33m=\u001b[0m\u001b[0mnp\u001b[0m\u001b[1;33m.\u001b[0m\u001b[0mmean\u001b[0m\u001b[1;33m(\u001b[0m\u001b[0mHPCs\u001b[0m\u001b[1;33m[\u001b[0m\u001b[0mclusterlabel\u001b[0m\u001b[1;33m==\u001b[0m\u001b[0mk\u001b[0m\u001b[1;33m]\u001b[0m\u001b[1;33m,\u001b[0m \u001b[0maxis\u001b[0m\u001b[1;33m=\u001b[0m\u001b[1;36m0\u001b[0m\u001b[1;33m)\u001b[0m\u001b[1;33m\u001b[0m\u001b[1;33m\u001b[0m\u001b[0m\n\u001b[0;32m     15\u001b[0m \u001b[1;33m\u001b[0m\u001b[0m\n\u001b[1;32m---> 16\u001b[1;33m     \u001b[0mX\u001b[0m\u001b[1;33m,\u001b[0m \u001b[0my\u001b[0m \u001b[1;33m=\u001b[0m \u001b[0mcreateImageCubes\u001b[0m\u001b[1;33m(\u001b[0m\u001b[0mclusterstack\u001b[0m\u001b[1;33m,\u001b[0m \u001b[0mGT\u001b[0m\u001b[1;33m,\u001b[0m \u001b[0mwindowSize\u001b[0m\u001b[1;33m=\u001b[0m\u001b[0mwindowSize\u001b[0m\u001b[1;33m)\u001b[0m\u001b[1;33m\u001b[0m\u001b[1;33m\u001b[0m\u001b[0m\n\u001b[0m\u001b[0;32m     17\u001b[0m     \u001b[0mXtrain\u001b[0m\u001b[1;33m,\u001b[0m \u001b[0mXtest\u001b[0m\u001b[1;33m,\u001b[0m \u001b[0mytrain\u001b[0m\u001b[1;33m,\u001b[0m \u001b[0mytest\u001b[0m \u001b[1;33m=\u001b[0m \u001b[0mtrain_test_split\u001b[0m\u001b[1;33m(\u001b[0m\u001b[0mX\u001b[0m\u001b[1;33m,\u001b[0m \u001b[0my\u001b[0m\u001b[1;33m,\u001b[0m \u001b[0mtest_size\u001b[0m\u001b[1;33m=\u001b[0m\u001b[0mtest_ratio\u001b[0m\u001b[1;33m,\u001b[0m \u001b[0mrandom_state\u001b[0m\u001b[1;33m=\u001b[0m\u001b[1;36m345\u001b[0m\u001b[1;33m,\u001b[0m\u001b[0mstratify\u001b[0m\u001b[1;33m=\u001b[0m\u001b[0my\u001b[0m\u001b[1;33m)\u001b[0m\u001b[1;33m\u001b[0m\u001b[1;33m\u001b[0m\u001b[0m\n\u001b[0;32m     18\u001b[0m     \u001b[0mytrain\u001b[0m \u001b[1;33m=\u001b[0m \u001b[0mkeras\u001b[0m\u001b[1;33m.\u001b[0m\u001b[0mutils\u001b[0m\u001b[1;33m.\u001b[0m\u001b[0mto_categorical\u001b[0m\u001b[1;33m(\u001b[0m\u001b[0mytrain\u001b[0m\u001b[1;33m)\u001b[0m\u001b[1;33m\u001b[0m\u001b[1;33m\u001b[0m\u001b[0m\n",
      "\u001b[1;32m<ipython-input-1-553d73a77646>\u001b[0m in \u001b[0;36mcreateImageCubes\u001b[1;34m(X, y, windowSize, removeZeroLabels)\u001b[0m\n\u001b[0;32m     60\u001b[0m             \u001b[0mpatchIndex\u001b[0m \u001b[1;33m=\u001b[0m \u001b[0mpatchIndex\u001b[0m \u001b[1;33m+\u001b[0m \u001b[1;36m1\u001b[0m\u001b[1;33m\u001b[0m\u001b[1;33m\u001b[0m\u001b[0m\n\u001b[0;32m     61\u001b[0m     \u001b[1;32mif\u001b[0m \u001b[0mremoveZeroLabels\u001b[0m\u001b[1;33m:\u001b[0m\u001b[1;33m\u001b[0m\u001b[1;33m\u001b[0m\u001b[0m\n\u001b[1;32m---> 62\u001b[1;33m         \u001b[0mpatchesData\u001b[0m \u001b[1;33m=\u001b[0m \u001b[0mpatchesData\u001b[0m\u001b[1;33m[\u001b[0m\u001b[0mpatchesLabels\u001b[0m\u001b[1;33m>\u001b[0m\u001b[1;36m0\u001b[0m\u001b[1;33m,\u001b[0m\u001b[1;33m:\u001b[0m\u001b[1;33m,\u001b[0m\u001b[1;33m:\u001b[0m\u001b[1;33m,\u001b[0m\u001b[1;33m:\u001b[0m\u001b[1;33m]\u001b[0m\u001b[1;33m\u001b[0m\u001b[1;33m\u001b[0m\u001b[0m\n\u001b[0m\u001b[0;32m     63\u001b[0m         \u001b[0mpatchesLabels\u001b[0m \u001b[1;33m=\u001b[0m \u001b[0mpatchesLabels\u001b[0m\u001b[1;33m[\u001b[0m\u001b[0mpatchesLabels\u001b[0m\u001b[1;33m>\u001b[0m\u001b[1;36m0\u001b[0m\u001b[1;33m]\u001b[0m\u001b[1;33m\u001b[0m\u001b[1;33m\u001b[0m\u001b[0m\n\u001b[0;32m     64\u001b[0m         \u001b[0mpatchesLabels\u001b[0m \u001b[1;33m-=\u001b[0m \u001b[1;36m1\u001b[0m\u001b[1;33m\u001b[0m\u001b[1;33m\u001b[0m\u001b[0m\n",
      "\u001b[1;31mMemoryError\u001b[0m: Unable to allocate array with shape (42776, 17, 17, 30) and data type float64"
     ]
    }
   ],
   "source": [
    "windowSize = 17\n",
    "ClusterNum = 100\n",
    "PCsNum = [1, 2, 5, 10, 15, 20, 25, 30]\n",
    "oa2 = np.zeros(len(PCsNum))\n",
    "for i in range(len(PCsNum)):\n",
    "    HPCs,pca = applyPCA(HSI,numComponents=PCsNum[i])\n",
    "    clusterstack = np.zeros(HPCs.shape)    \n",
    "    \n",
    "    start = time.process_time()\n",
    "    \n",
    "    mbk_means = cluster.MiniBatchKMeans(n_clusters=ClusterNum, n_init=4).fit(HSI.reshape((-1, HSI.shape[2])))\n",
    "    clusterlabel = mbk_means.labels_.reshape((GT.shape))\n",
    "    for k in range(ClusterNum):\n",
    "        clusterstack[clusterlabel==k]=np.mean(HPCs[clusterlabel==k], axis=0)\n",
    "\n",
    "    X, y = createImageCubes(clusterstack, GT, windowSize=windowSize)\n",
    "    Xtrain, Xtest, ytrain, ytest = train_test_split(X, y, test_size=test_ratio, random_state=345,stratify=y)\n",
    "    ytrain = keras.utils.to_categorical(ytrain)\n",
    "\n",
    "    ## input layer\n",
    "    IL = keras.Input(shape=(windowSize, windowSize, PCsNum[i]), name='IL')\n",
    "    C1 = keras.layers.Conv2D(filters=64, kernel_size=(5,5), activation='relu', name='C1')(IL)\n",
    "    C2 = keras.layers.Conv2D(filters=64, kernel_size=(3,3), activation='relu', name='C2')(C1)        \n",
    "    ## flatten\n",
    "    FL = keras.layers.Flatten(name='FL')(C2)        \n",
    "    ## fully connected layers\n",
    "    D1 = keras.layers.Dense(units=256, activation='relu', name='D1')(FL)\n",
    "    D1 = keras.layers.Dropout(0.4, name='dropout1')(D1)\n",
    "    D2 = keras.layers.Dense(units=128, activation='relu', name='D2')(D1)\n",
    "    D2 = keras.layers.Dropout(0.4, name='dropout2')(D2)\n",
    "    OL = keras.layers.Dense(units=ytrain.shape[1], activation='softmax', name='OL')(D2)\n",
    "\n",
    "    model = keras.models.Model(inputs=IL, outputs=OL, name='2DCNN_FCs')\n",
    "\n",
    "    # compiling the model\n",
    "    adam = keras.optimizers.Adam(lr=0.001, decay=1e-06)\n",
    "    model.compile(loss='categorical_crossentropy', optimizer=adam, metrics=['accuracy'])\n",
    "    model.fit(x=Xtrain, y=ytrain, batch_size=64, epochs=100, verbose=0)\n",
    "\n",
    "    # predic\n",
    "    y_pred = np.argmax(model.predict(Xtest), axis=1)\n",
    "    oa2[i] = accuracy_score(ytest, y_pred)\n",
    "\n",
    "    timeused = (time.process_time() - start)\n",
    "\n",
    "    print(PCsNum[i], ClusterNum, oa2[i], timeused,'s')"
   ]
  },
  {
   "cell_type": "code",
   "execution_count": 4,
   "metadata": {},
   "outputs": [
    {
     "data": {
      "text/plain": [
       "array([94.47, 98.22, 98.78, 98.89, 99.19, 99.32, 99.19,  0.  ])"
      ]
     },
     "execution_count": 4,
     "metadata": {},
     "output_type": "execute_result"
    }
   ],
   "source": [
    "np.round(oa2*100, 2)"
   ]
  },
  {
   "cell_type": "code",
   "execution_count": 10,
   "metadata": {},
   "outputs": [
    {
     "data": {
      "text/plain": [
       "range(0, 8)"
      ]
     },
     "execution_count": 10,
     "metadata": {},
     "output_type": "execute_result"
    }
   ],
   "source": [
    "stop = i\n",
    "a = range(len(PCsNum))\n",
    "a"
   ]
  },
  {
   "cell_type": "code",
   "execution_count": 12,
   "metadata": {},
   "outputs": [
    {
     "ename": "MemoryError",
     "evalue": "Unable to allocate array with shape (207400, 21, 21, 20) and data type float64",
     "output_type": "error",
     "traceback": [
      "\u001b[1;31m---------------------------------------------------------------------------\u001b[0m",
      "\u001b[1;31mMemoryError\u001b[0m                               Traceback (most recent call last)",
      "\u001b[1;32m<ipython-input-12-43256b97da13>\u001b[0m in \u001b[0;36m<module>\u001b[1;34m\u001b[0m\n\u001b[0;32m     11\u001b[0m         \u001b[0mclusterstack\u001b[0m\u001b[1;33m[\u001b[0m\u001b[0mclusterlabel\u001b[0m\u001b[1;33m==\u001b[0m\u001b[0mk\u001b[0m\u001b[1;33m]\u001b[0m\u001b[1;33m=\u001b[0m\u001b[0mnp\u001b[0m\u001b[1;33m.\u001b[0m\u001b[0mmean\u001b[0m\u001b[1;33m(\u001b[0m\u001b[0mHPCs\u001b[0m\u001b[1;33m[\u001b[0m\u001b[0mclusterlabel\u001b[0m\u001b[1;33m==\u001b[0m\u001b[0mk\u001b[0m\u001b[1;33m]\u001b[0m\u001b[1;33m,\u001b[0m \u001b[0maxis\u001b[0m\u001b[1;33m=\u001b[0m\u001b[1;36m0\u001b[0m\u001b[1;33m)\u001b[0m\u001b[1;33m\u001b[0m\u001b[1;33m\u001b[0m\u001b[0m\n\u001b[0;32m     12\u001b[0m \u001b[1;33m\u001b[0m\u001b[0m\n\u001b[1;32m---> 13\u001b[1;33m     \u001b[0mX\u001b[0m\u001b[1;33m,\u001b[0m \u001b[0my\u001b[0m \u001b[1;33m=\u001b[0m \u001b[0mcreateImageCubes\u001b[0m\u001b[1;33m(\u001b[0m\u001b[0mclusterstack\u001b[0m\u001b[1;33m,\u001b[0m \u001b[0mGT\u001b[0m\u001b[1;33m,\u001b[0m \u001b[0mwindowSize\u001b[0m\u001b[1;33m=\u001b[0m\u001b[0mwindowSize\u001b[0m\u001b[1;33m)\u001b[0m\u001b[1;33m\u001b[0m\u001b[1;33m\u001b[0m\u001b[0m\n\u001b[0m\u001b[0;32m     14\u001b[0m     \u001b[0mXtrain\u001b[0m\u001b[1;33m,\u001b[0m \u001b[0mXtest\u001b[0m\u001b[1;33m,\u001b[0m \u001b[0mytrain\u001b[0m\u001b[1;33m,\u001b[0m \u001b[0mytest\u001b[0m \u001b[1;33m=\u001b[0m \u001b[0mtrain_test_split\u001b[0m\u001b[1;33m(\u001b[0m\u001b[0mX\u001b[0m\u001b[1;33m,\u001b[0m \u001b[0my\u001b[0m\u001b[1;33m,\u001b[0m \u001b[0mtest_size\u001b[0m\u001b[1;33m=\u001b[0m\u001b[0mtest_ratio\u001b[0m\u001b[1;33m,\u001b[0m \u001b[0mrandom_state\u001b[0m\u001b[1;33m=\u001b[0m\u001b[1;36m345\u001b[0m\u001b[1;33m,\u001b[0m\u001b[0mstratify\u001b[0m\u001b[1;33m=\u001b[0m\u001b[0my\u001b[0m\u001b[1;33m)\u001b[0m\u001b[1;33m\u001b[0m\u001b[1;33m\u001b[0m\u001b[0m\n\u001b[0;32m     15\u001b[0m     \u001b[0mytrain\u001b[0m \u001b[1;33m=\u001b[0m \u001b[0mkeras\u001b[0m\u001b[1;33m.\u001b[0m\u001b[0mutils\u001b[0m\u001b[1;33m.\u001b[0m\u001b[0mto_categorical\u001b[0m\u001b[1;33m(\u001b[0m\u001b[0mytrain\u001b[0m\u001b[1;33m)\u001b[0m\u001b[1;33m\u001b[0m\u001b[1;33m\u001b[0m\u001b[0m\n",
      "\u001b[1;32m<ipython-input-1-553d73a77646>\u001b[0m in \u001b[0;36mcreateImageCubes\u001b[1;34m(X, y, windowSize, removeZeroLabels)\u001b[0m\n\u001b[0;32m     50\u001b[0m     \u001b[0mzeroPaddedX\u001b[0m \u001b[1;33m=\u001b[0m \u001b[0mpadWithZeros\u001b[0m\u001b[1;33m(\u001b[0m\u001b[0mX\u001b[0m\u001b[1;33m,\u001b[0m \u001b[0mmargin\u001b[0m\u001b[1;33m=\u001b[0m\u001b[0mmargin\u001b[0m\u001b[1;33m)\u001b[0m\u001b[1;33m\u001b[0m\u001b[1;33m\u001b[0m\u001b[0m\n\u001b[0;32m     51\u001b[0m     \u001b[1;31m# split patches\u001b[0m\u001b[1;33m\u001b[0m\u001b[1;33m\u001b[0m\u001b[1;33m\u001b[0m\u001b[0m\n\u001b[1;32m---> 52\u001b[1;33m     \u001b[0mpatchesData\u001b[0m \u001b[1;33m=\u001b[0m \u001b[0mnp\u001b[0m\u001b[1;33m.\u001b[0m\u001b[0mzeros\u001b[0m\u001b[1;33m(\u001b[0m\u001b[1;33m(\u001b[0m\u001b[0mX\u001b[0m\u001b[1;33m.\u001b[0m\u001b[0mshape\u001b[0m\u001b[1;33m[\u001b[0m\u001b[1;36m0\u001b[0m\u001b[1;33m]\u001b[0m \u001b[1;33m*\u001b[0m \u001b[0mX\u001b[0m\u001b[1;33m.\u001b[0m\u001b[0mshape\u001b[0m\u001b[1;33m[\u001b[0m\u001b[1;36m1\u001b[0m\u001b[1;33m]\u001b[0m\u001b[1;33m,\u001b[0m \u001b[0mwindowSize\u001b[0m\u001b[1;33m,\u001b[0m \u001b[0mwindowSize\u001b[0m\u001b[1;33m,\u001b[0m \u001b[0mX\u001b[0m\u001b[1;33m.\u001b[0m\u001b[0mshape\u001b[0m\u001b[1;33m[\u001b[0m\u001b[1;36m2\u001b[0m\u001b[1;33m]\u001b[0m\u001b[1;33m)\u001b[0m\u001b[1;33m)\u001b[0m\u001b[1;33m\u001b[0m\u001b[1;33m\u001b[0m\u001b[0m\n\u001b[0m\u001b[0;32m     53\u001b[0m     \u001b[0mpatchesLabels\u001b[0m \u001b[1;33m=\u001b[0m \u001b[0mnp\u001b[0m\u001b[1;33m.\u001b[0m\u001b[0mzeros\u001b[0m\u001b[1;33m(\u001b[0m\u001b[1;33m(\u001b[0m\u001b[0mX\u001b[0m\u001b[1;33m.\u001b[0m\u001b[0mshape\u001b[0m\u001b[1;33m[\u001b[0m\u001b[1;36m0\u001b[0m\u001b[1;33m]\u001b[0m \u001b[1;33m*\u001b[0m \u001b[0mX\u001b[0m\u001b[1;33m.\u001b[0m\u001b[0mshape\u001b[0m\u001b[1;33m[\u001b[0m\u001b[1;36m1\u001b[0m\u001b[1;33m]\u001b[0m\u001b[1;33m)\u001b[0m\u001b[1;33m)\u001b[0m\u001b[1;33m\u001b[0m\u001b[1;33m\u001b[0m\u001b[0m\n\u001b[0;32m     54\u001b[0m     \u001b[0mpatchIndex\u001b[0m \u001b[1;33m=\u001b[0m \u001b[1;36m0\u001b[0m\u001b[1;33m\u001b[0m\u001b[1;33m\u001b[0m\u001b[0m\n",
      "\u001b[1;31mMemoryError\u001b[0m: Unable to allocate array with shape (207400, 21, 21, 20) and data type float64"
     ]
    }
   ],
   "source": [
    "for i in range(stop, len(PCsNum)):\n",
    "    del Xtrain, Xtest, ytrain, ytest\n",
    "    HPCs,pca = applyPCA(HSI,numComponents=PCsNum[i])\n",
    "    clusterstack = np.zeros(HPCs.shape)    \n",
    "    \n",
    "    start = time.process_time()\n",
    "    \n",
    "    mbk_means = cluster.MiniBatchKMeans(n_clusters=ClusterNum, n_init=4).fit(HSI.reshape((-1, HSI.shape[2])))\n",
    "    clusterlabel = mbk_means.labels_.reshape((GT.shape))\n",
    "    for k in range(ClusterNum):\n",
    "        clusterstack[clusterlabel==k]=np.mean(HPCs[clusterlabel==k], axis=0)\n",
    "\n",
    "    X, y = createImageCubes(clusterstack, GT, windowSize=windowSize)\n",
    "    Xtrain, Xtest, ytrain, ytest = train_test_split(X, y, test_size=test_ratio, random_state=345,stratify=y)\n",
    "    ytrain = keras.utils.to_categorical(ytrain)\n",
    "\n",
    "    ## input layer\n",
    "    IL = keras.Input(shape=(windowSize, windowSize, PCsNum[i]), name='IL')\n",
    "    C1 = keras.layers.Conv2D(filters=64, kernel_size=(5,5), activation='relu', name='C1')(IL)\n",
    "    C2 = keras.layers.Conv2D(filters=64, kernel_size=(3,3), activation='relu', name='C2')(C1)        \n",
    "    ## flatten\n",
    "    FL = keras.layers.Flatten(name='FL')(C2)        \n",
    "    ## fully connected layers\n",
    "    D1 = keras.layers.Dense(units=256, activation='relu', name='D1')(FL)\n",
    "    D1 = keras.layers.Dropout(0.4, name='dropout1')(D1)\n",
    "    D2 = keras.layers.Dense(units=128, activation='relu', name='D2')(D1)\n",
    "    D2 = keras.layers.Dropout(0.4, name='dropout2')(D2)\n",
    "    OL = keras.layers.Dense(units=ytrain.shape[1], activation='softmax', name='OL')(D2)\n",
    "\n",
    "    model = keras.models.Model(inputs=IL, outputs=OL, name='2DCNN_FCs')\n",
    "\n",
    "    # compiling the model\n",
    "    adam = keras.optimizers.Adam(lr=0.001, decay=1e-06)\n",
    "    model.compile(loss='categorical_crossentropy', optimizer=adam, metrics=['accuracy'])\n",
    "    model.fit(x=Xtrain, y=ytrain, batch_size=64, epochs=100, verbose=0)\n",
    "\n",
    "    # predic\n",
    "    y_pred = np.argmax(model.predict(Xtest), axis=1)\n",
    "    oa2[i] = accuracy_score(ytest, y_pred)\n",
    "\n",
    "    timeused = (time.process_time() - start)\n",
    "\n",
    "    print(PCsNum[i], ClusterNum, oa2[i], timeused,'s')"
   ]
  },
  {
   "cell_type": "markdown",
   "metadata": {
    "toc-hr-collapsed": true,
    "toc-nb-collapsed": true
   },
   "source": [
    "# Stability Test"
   ]
  },
  {
   "cell_type": "markdown",
   "metadata": {},
   "source": [
    "Multiple runs on different PCA numbers:"
   ]
  },
  {
   "cell_type": "code",
   "execution_count": 3,
   "metadata": {},
   "outputs": [
    {
     "name": "stdout",
     "output_type": "stream",
     "text": [
      "15 100 0.9773441734417344\n",
      "15 100 0.9700813008130081\n",
      "15 100 0.9765853658536585\n",
      "15 100 0.9799457994579945\n",
      "15 100 0.9795121951219512\n",
      "15 100 0.9814634146341463\n",
      "15 100 0.9768021680216802\n",
      "15 100 0.9706233062330624\n",
      "15 100 0.9742005420054201\n",
      "15 100 0.9757181571815718\n",
      "15 100 0.9712737127371274\n",
      "15 100 0.9713821138211383\n",
      "15 100 0.972140921409214\n",
      "15 100 0.974308943089431\n",
      "15 100 0.974308943089431\n",
      "15 100 0.975609756097561\n",
      "15 100 0.9750677506775067\n",
      "15 100 0.9772357723577236\n",
      "15 100 0.9762601626016261\n",
      "15 100 0.9773441734417344\n"
     ]
    }
   ],
   "source": [
    "windowSize = 25\n",
    "PCsNum = 15\n",
    "ClusterNum = 100    \n",
    "HPCs,pca = applyPCA(HSI,numComponents=PCsNum)\n",
    "clusterstack = np.zeros(HPCs.shape)\n",
    "k_means = cluster.KMeans(n_clusters=ClusterNum, n_init=4).fit(HPCs.reshape((-1, HPCs.shape[2])))\n",
    "clusterlabel = k_means.labels_.reshape((GT.shape))\n",
    "for i in range(ClusterNum):\n",
    "    clusterstack[clusterlabel==i]=np.mean(HPCs[clusterlabel==i], axis=0)            \n",
    "X, y = createImageCubes(clusterstack, GT, windowSize=windowSize)\n",
    "Xtrain, Xtest, ytrain, ytest = train_test_split(X, y, test_size=test_ratio, random_state=345,stratify=y)\n",
    "ytrain = keras.utils.to_categorical(ytrain)\n",
    "\n",
    "## input layer\n",
    "IL = keras.Input(shape=(windowSize, windowSize, PCsNum), name='IL')\n",
    "C1 = keras.layers.Conv2D(filters=64, kernel_size=(5,5), activation='relu', name='C1')(IL)\n",
    "C2 = keras.layers.Conv2D(filters=64, kernel_size=(3,3), activation='relu', name='C2')(C1)        \n",
    "## flatten\n",
    "FL = keras.layers.Flatten(name='FL')(C2)        \n",
    "## fully connected layers\n",
    "D1 = keras.layers.Dense(units=256, activation='relu', name='D1')(FL)\n",
    "D1 = keras.layers.Dropout(0.4, name='dropout1')(D1)\n",
    "D2 = keras.layers.Dense(units=128, activation='relu', name='D2')(D1)\n",
    "D2 = keras.layers.Dropout(0.4, name='dropout2')(D2)\n",
    "OL = keras.layers.Dense(units=ytrain.shape[1], activation='softmax', name='OL')(D2)\n",
    "     \n",
    "\n",
    "for j in range(20):\n",
    "    model = keras.models.Model(inputs=IL, outputs=OL, name='2DCNN_FCs')\n",
    "        \n",
    "    # compiling the model\n",
    "    adam = keras.optimizers.Adam(lr=0.001, decay=1e-06)\n",
    "    model.compile(loss='categorical_crossentropy', optimizer=adam, metrics=['accuracy'])\n",
    "    model.fit(x=Xtrain, y=ytrain, batch_size=256, epochs=100, verbose=0)     \n",
    "    # predic\n",
    "    y_pred = np.argmax(model.predict(Xtest), axis=1)\n",
    "    oa = accuracy_score(ytest, y_pred)\n",
    "    print(PCsNum, ClusterNum, oa)"
   ]
  },
  {
   "cell_type": "code",
   "execution_count": 4,
   "metadata": {},
   "outputs": [
    {
     "name": "stdout",
     "output_type": "stream",
     "text": [
      "20 100 0.9731165311653116\n",
      "20 100 0.9737669376693767\n",
      "20 100 0.9751761517615176\n",
      "20 100 0.9689972899728997\n",
      "20 100 0.9718157181571816\n",
      "20 100 0.9773441734417344\n",
      "20 100 0.9779945799457994\n",
      "20 100 0.9785365853658536\n",
      "20 100 0.9731165311653116\n",
      "20 100 0.9650948509485094\n",
      "20 100 0.974959349593496\n",
      "20 100 0.9740921409214092\n",
      "20 100 0.9753929539295393\n",
      "20 100 0.9759349593495935\n",
      "20 100 0.9740921409214092\n",
      "20 100 0.9800542005420054\n",
      "20 100 0.9762601626016261\n",
      "20 100 0.9799457994579945\n",
      "20 100 0.9734417344173442\n",
      "20 100 0.9753929539295393\n"
     ]
    }
   ],
   "source": [
    "windowSize = 25\n",
    "PCsNum = 20\n",
    "ClusterNum = 100    \n",
    "HPCs,pca = applyPCA(HSI,numComponents=PCsNum)\n",
    "clusterstack = np.zeros(HPCs.shape)\n",
    "k_means = cluster.KMeans(n_clusters=ClusterNum, n_init=4).fit(HPCs.reshape((-1, HPCs.shape[2])))\n",
    "clusterlabel = k_means.labels_.reshape((GT.shape))\n",
    "for i in range(ClusterNum):\n",
    "    clusterstack[clusterlabel==i]=np.mean(HPCs[clusterlabel==i], axis=0)            \n",
    "X, y = createImageCubes(clusterstack, GT, windowSize=windowSize)\n",
    "Xtrain, Xtest, ytrain, ytest = train_test_split(X, y, test_size=test_ratio, random_state=345,stratify=y)\n",
    "ytrain = keras.utils.to_categorical(ytrain)\n",
    "\n",
    "## input layer\n",
    "IL = keras.Input(shape=(windowSize, windowSize, PCsNum), name='IL')\n",
    "C1 = keras.layers.Conv2D(filters=64, kernel_size=(5,5), activation='relu', name='C1')(IL)\n",
    "C2 = keras.layers.Conv2D(filters=64, kernel_size=(3,3), activation='relu', name='C2')(C1)        \n",
    "## flatten\n",
    "FL = keras.layers.Flatten(name='FL')(C2)        \n",
    "## fully connected layers\n",
    "D1 = keras.layers.Dense(units=256, activation='relu', name='D1')(FL)\n",
    "D1 = keras.layers.Dropout(0.4, name='dropout1')(D1)\n",
    "D2 = keras.layers.Dense(units=128, activation='relu', name='D2')(D1)\n",
    "D2 = keras.layers.Dropout(0.4, name='dropout2')(D2)\n",
    "OL = keras.layers.Dense(units=ytrain.shape[1], activation='softmax', name='OL')(D2)\n",
    "        \n",
    "model = keras.models.Model(inputs=IL, outputs=OL, name='2DCNN_FCs')\n",
    "        \n",
    "# compiling the model\n",
    "adam = keras.optimizers.Adam(lr=0.001, decay=1e-06)\n",
    "model.compile(loss='categorical_crossentropy', optimizer=adam, metrics=['accuracy'])\n",
    "\n",
    "for j in range(20):\n",
    "    model.fit(x=Xtrain, y=ytrain, batch_size=256, epochs=100, verbose=0)     \n",
    "    # predic\n",
    "    y_pred = np.argmax(model.predict(Xtest), axis=1)\n",
    "    oa = accuracy_score(ytest, y_pred)\n",
    "    print(PCsNum, ClusterNum, oa)"
   ]
  },
  {
   "cell_type": "markdown",
   "metadata": {},
   "source": [
    "Multiple runs on different Clustering numbers:"
   ]
  },
  {
   "cell_type": "code",
   "execution_count": 5,
   "metadata": {},
   "outputs": [
    {
     "name": "stdout",
     "output_type": "stream",
     "text": [
      "15 80 0.9796205962059621\n",
      "15 80 0.9778861788617886\n",
      "15 80 0.9759349593495935\n",
      "15 80 0.9705149051490515\n",
      "15 80 0.9733333333333334\n",
      "15 80 0.9792953929539295\n",
      "15 80 0.966070460704607\n",
      "15 80 0.9737669376693767\n",
      "15 80 0.974308943089431\n",
      "15 80 0.9746341463414634\n",
      "15 80 0.968780487804878\n",
      "15 80 0.9745257452574526\n",
      "15 80 0.9699728997289973\n",
      "15 80 0.9732249322493225\n",
      "15 80 0.9726829268292683\n",
      "15 80 0.9730081300813008\n",
      "15 80 0.9757181571815718\n",
      "15 80 0.9711653116531165\n",
      "15 80 0.9747425474254743\n",
      "15 80 0.977669376693767\n"
     ]
    }
   ],
   "source": [
    "windowSize = 25\n",
    "PCsNum = 15\n",
    "ClusterNum = 80    \n",
    "HPCs,pca = applyPCA(HSI,numComponents=PCsNum)\n",
    "clusterstack = np.zeros(HPCs.shape)\n",
    "k_means = cluster.KMeans(n_clusters=ClusterNum, n_init=4).fit(HPCs.reshape((-1, HPCs.shape[2])))\n",
    "clusterlabel = k_means.labels_.reshape((GT.shape))\n",
    "for i in range(ClusterNum):\n",
    "    clusterstack[clusterlabel==i]=np.mean(HPCs[clusterlabel==i], axis=0)            \n",
    "X, y = createImageCubes(clusterstack, GT, windowSize=windowSize)\n",
    "Xtrain, Xtest, ytrain, ytest = train_test_split(X, y, test_size=test_ratio, random_state=345,stratify=y)\n",
    "ytrain = keras.utils.to_categorical(ytrain)\n",
    "\n",
    "## input layer\n",
    "IL = keras.Input(shape=(windowSize, windowSize, PCsNum), name='IL')\n",
    "C1 = keras.layers.Conv2D(filters=64, kernel_size=(5,5), activation='relu', name='C1')(IL)\n",
    "C2 = keras.layers.Conv2D(filters=64, kernel_size=(3,3), activation='relu', name='C2')(C1)        \n",
    "## flatten\n",
    "FL = keras.layers.Flatten(name='FL')(C2)        \n",
    "## fully connected layers\n",
    "D1 = keras.layers.Dense(units=256, activation='relu', name='D1')(FL)\n",
    "D1 = keras.layers.Dropout(0.4, name='dropout1')(D1)\n",
    "D2 = keras.layers.Dense(units=128, activation='relu', name='D2')(D1)\n",
    "D2 = keras.layers.Dropout(0.4, name='dropout2')(D2)\n",
    "OL = keras.layers.Dense(units=ytrain.shape[1], activation='softmax', name='OL')(D2)\n",
    "        \n",
    "model = keras.models.Model(inputs=IL, outputs=OL, name='2DCNN_FCs')\n",
    "        \n",
    "# compiling the model\n",
    "adam = keras.optimizers.Adam(lr=0.001, decay=1e-06)\n",
    "model.compile(loss='categorical_crossentropy', optimizer=adam, metrics=['accuracy'])\n",
    "\n",
    "for j in range(20):\n",
    "    model.fit(x=Xtrain, y=ytrain, batch_size=256, epochs=100, verbose=0)     \n",
    "    # predic\n",
    "    y_pred = np.argmax(model.predict(Xtest), axis=1)\n",
    "    oa = accuracy_score(ytest, y_pred)\n",
    "    print(PCsNum, ClusterNum, oa)"
   ]
  },
  {
   "cell_type": "code",
   "execution_count": 7,
   "metadata": {},
   "outputs": [
    {
     "name": "stdout",
     "output_type": "stream",
     "text": [
      "15 200 0.9772357723577236\n",
      "15 200 0.9745257452574526\n",
      "15 200 0.977669376693767\n",
      "15 200 0.9798373983739838\n",
      "15 200 0.9699728997289973\n",
      "15 200 0.9747425474254743\n",
      "15 200 0.9653116531165311\n",
      "15 200 0.9650948509485094\n",
      "15 200 0.9736585365853658\n",
      "15 200 0.9738753387533875\n",
      "15 200 0.9656368563685637\n",
      "15 200 0.968780487804878\n",
      "15 200 0.9719241192411924\n",
      "15 200 0.9750677506775067\n",
      "15 200 0.9791869918699186\n",
      "15 200 0.9747425474254743\n",
      "15 200 0.9724661246612466\n",
      "15 200 0.974308943089431\n",
      "15 200 0.9753929539295393\n",
      "15 200 0.9676964769647697\n"
     ]
    }
   ],
   "source": [
    "windowSize = 25\n",
    "PCsNum = 15\n",
    "ClusterNum = 200    \n",
    "HPCs,pca = applyPCA(HSI,numComponents=PCsNum)\n",
    "clusterstack = np.zeros(HPCs.shape)\n",
    "k_means = cluster.KMeans(n_clusters=ClusterNum, n_init=4).fit(HPCs.reshape((-1, HPCs.shape[2])))\n",
    "clusterlabel = k_means.labels_.reshape((GT.shape))\n",
    "for i in range(ClusterNum):\n",
    "    clusterstack[clusterlabel==i]=np.mean(HPCs[clusterlabel==i], axis=0)            \n",
    "X, y = createImageCubes(clusterstack, GT, windowSize=windowSize)\n",
    "Xtrain, Xtest, ytrain, ytest = train_test_split(X, y, test_size=test_ratio, random_state=345,stratify=y)\n",
    "ytrain = keras.utils.to_categorical(ytrain)\n",
    "\n",
    "## input layer\n",
    "IL = keras.Input(shape=(windowSize, windowSize, PCsNum), name='IL')\n",
    "C1 = keras.layers.Conv2D(filters=64, kernel_size=(5,5), activation='relu', name='C1')(IL)\n",
    "C2 = keras.layers.Conv2D(filters=64, kernel_size=(3,3), activation='relu', name='C2')(C1)        \n",
    "## flatten\n",
    "FL = keras.layers.Flatten(name='FL')(C2)        \n",
    "## fully connected layers\n",
    "D1 = keras.layers.Dense(units=256, activation='relu', name='D1')(FL)\n",
    "D1 = keras.layers.Dropout(0.4, name='dropout1')(D1)\n",
    "D2 = keras.layers.Dense(units=128, activation='relu', name='D2')(D1)\n",
    "D2 = keras.layers.Dropout(0.4, name='dropout2')(D2)\n",
    "OL = keras.layers.Dense(units=ytrain.shape[1], activation='softmax', name='OL')(D2)\n",
    "        \n",
    "model = keras.models.Model(inputs=IL, outputs=OL, name='2DCNN_FCs')\n",
    "        \n",
    "# compiling the model\n",
    "adam = keras.optimizers.Adam(lr=0.001, decay=1e-06)\n",
    "model.compile(loss='categorical_crossentropy', optimizer=adam, metrics=['accuracy'])\n",
    "\n",
    "for j in range(20):\n",
    "    model.fit(x=Xtrain, y=ytrain, batch_size=256, epochs=100, verbose=0)     \n",
    "    # predic\n",
    "    y_pred = np.argmax(model.predict(Xtest), axis=1)\n",
    "    oa = accuracy_score(ytest, y_pred)\n",
    "    print(PCsNum, ClusterNum, oa)"
   ]
  },
  {
   "cell_type": "code",
   "execution_count": 8,
   "metadata": {},
   "outputs": [
    {
     "name": "stdout",
     "output_type": "stream",
     "text": [
      "15 150 0.9753929539295393\n",
      "15 150 0.9712737127371274\n",
      "15 150 0.9723577235772358\n",
      "15 150 0.9822222222222222\n",
      "15 150 0.980379403794038\n",
      "15 150 0.9794037940379404\n",
      "15 150 0.981680216802168\n",
      "15 150 0.9782113821138212\n",
      "15 150 0.9778861788617886\n",
      "15 150 0.978319783197832\n",
      "15 150 0.978319783197832\n",
      "15 150 0.9709485094850948\n",
      "15 150 0.9811382113821138\n",
      "15 150 0.9782113821138212\n",
      "15 150 0.9769105691056911\n",
      "15 150 0.9815718157181572\n",
      "15 150 0.9771273712737127\n",
      "15 150 0.9796205962059621\n",
      "15 150 0.9808130081300813\n",
      "15 150 0.9820054200542006\n"
     ]
    }
   ],
   "source": [
    "windowSize = 25\n",
    "PCsNum = 15\n",
    "ClusterNum = 150    \n",
    "HPCs,pca = applyPCA(HSI,numComponents=PCsNum)\n",
    "clusterstack = np.zeros(HPCs.shape)\n",
    "k_means = cluster.KMeans(n_clusters=ClusterNum, n_init=4).fit(HPCs.reshape((-1, HPCs.shape[2])))\n",
    "clusterlabel = k_means.labels_.reshape((GT.shape))\n",
    "for i in range(ClusterNum):\n",
    "    clusterstack[clusterlabel==i]=np.mean(HPCs[clusterlabel==i], axis=0)            \n",
    "X, y = createImageCubes(clusterstack, GT, windowSize=windowSize)\n",
    "Xtrain, Xtest, ytrain, ytest = train_test_split(X, y, test_size=test_ratio, random_state=345,stratify=y)\n",
    "ytrain = keras.utils.to_categorical(ytrain)\n",
    "\n",
    "## input layer\n",
    "IL = keras.Input(shape=(windowSize, windowSize, PCsNum), name='IL')\n",
    "C1 = keras.layers.Conv2D(filters=64, kernel_size=(5,5), activation='relu', name='C1')(IL)\n",
    "C2 = keras.layers.Conv2D(filters=64, kernel_size=(3,3), activation='relu', name='C2')(C1)        \n",
    "## flatten\n",
    "FL = keras.layers.Flatten(name='FL')(C2)        \n",
    "## fully connected layers\n",
    "D1 = keras.layers.Dense(units=256, activation='relu', name='D1')(FL)\n",
    "D1 = keras.layers.Dropout(0.4, name='dropout1')(D1)\n",
    "D2 = keras.layers.Dense(units=128, activation='relu', name='D2')(D1)\n",
    "D2 = keras.layers.Dropout(0.4, name='dropout2')(D2)\n",
    "OL = keras.layers.Dense(units=ytrain.shape[1], activation='softmax', name='OL')(D2)\n",
    "        \n",
    "model = keras.models.Model(inputs=IL, outputs=OL, name='2DCNN_FCs')\n",
    "        \n",
    "# compiling the model\n",
    "adam = keras.optimizers.Adam(lr=0.001, decay=1e-06)\n",
    "model.compile(loss='categorical_crossentropy', optimizer=adam, metrics=['accuracy'])\n",
    "\n",
    "for j in range(20):\n",
    "    model.fit(x=Xtrain, y=ytrain, batch_size=256, epochs=100, verbose=0)     \n",
    "    # predic\n",
    "    y_pred = np.argmax(model.predict(Xtest), axis=1)\n",
    "    oa = accuracy_score(ytest, y_pred)\n",
    "    print(PCsNum, ClusterNum, oa)"
   ]
  },
  {
   "cell_type": "markdown",
   "metadata": {},
   "source": [
    "Multiple runs on 2DCNN without Clustering:"
   ]
  },
  {
   "cell_type": "code",
   "execution_count": 9,
   "metadata": {},
   "outputs": [
    {
     "name": "stdout",
     "output_type": "stream",
     "text": [
      "15 150 0.9790785907859079\n",
      "15 150 0.9808130081300813\n",
      "15 150 0.9689972899728997\n",
      "15 150 0.9748509485094851\n",
      "15 150 0.9782113821138212\n",
      "15 150 0.9799457994579945\n",
      "15 150 0.9792953929539295\n",
      "15 150 0.9812466124661247\n",
      "15 150 0.9791869918699186\n",
      "15 150 0.9774525745257453\n",
      "15 150 0.9781029810298103\n",
      "15 150 0.9802710027100271\n",
      "15 150 0.9736585365853658\n",
      "15 150 0.9823306233062331\n",
      "15 150 0.9805962059620597\n",
      "15 150 0.9740921409214092\n",
      "15 150 0.9775609756097561\n",
      "15 150 0.9740921409214092\n",
      "15 150 0.981029810298103\n",
      "15 150 0.9778861788617886\n"
     ]
    }
   ],
   "source": [
    "windowSize = 25\n",
    "PCsNum = 15\n",
    "ClusterNum = 0\n",
    "HPCs,pca = applyPCA(HSI,numComponents=PCsNum)\n",
    "\n",
    "X, y = createImageCubes(HPCs, GT, windowSize=windowSize)\n",
    "Xtrain, Xtest, ytrain, ytest = train_test_split(X, y, test_size=test_ratio, random_state=345,stratify=y)\n",
    "ytrain = keras.utils.to_categorical(ytrain)\n",
    "\n",
    "## input layer\n",
    "IL = keras.Input(shape=(windowSize, windowSize, PCsNum), name='IL')\n",
    "C1 = keras.layers.Conv2D(filters=64, kernel_size=(5,5), activation='relu', name='C1')(IL)\n",
    "C2 = keras.layers.Conv2D(filters=64, kernel_size=(3,3), activation='relu', name='C2')(C1)        \n",
    "## flatten\n",
    "FL = keras.layers.Flatten(name='FL')(C2)        \n",
    "## fully connected layers\n",
    "D1 = keras.layers.Dense(units=256, activation='relu', name='D1')(FL)\n",
    "D1 = keras.layers.Dropout(0.4, name='dropout1')(D1)\n",
    "D2 = keras.layers.Dense(units=128, activation='relu', name='D2')(D1)\n",
    "D2 = keras.layers.Dropout(0.4, name='dropout2')(D2)\n",
    "OL = keras.layers.Dense(units=ytrain.shape[1], activation='softmax', name='OL')(D2)\n",
    "        \n",
    "model = keras.models.Model(inputs=IL, outputs=OL, name='2DCNN_FCs')\n",
    "        \n",
    "# compiling the model\n",
    "adam = keras.optimizers.Adam(lr=0.001, decay=1e-06)\n",
    "model.compile(loss='categorical_crossentropy', optimizer=adam, metrics=['accuracy'])\n",
    "\n",
    "for j in range(20):\n",
    "    model.fit(x=Xtrain, y=ytrain, batch_size=256, epochs=100, verbose=0)     \n",
    "    # predic\n",
    "    y_pred = np.argmax(model.predict(Xtest), axis=1)\n",
    "    oa = accuracy_score(ytest, y_pred)\n",
    "    print(PCsNum, ClusterNum, oa)"
   ]
  },
  {
   "cell_type": "markdown",
   "metadata": {},
   "source": [
    "Multiple runs on different CNN structures:"
   ]
  },
  {
   "cell_type": "code",
   "execution_count": 10,
   "metadata": {},
   "outputs": [
    {
     "name": "stdout",
     "output_type": "stream",
     "text": [
      "15 150 0.9723577235772358\n",
      "15 150 0.9745257452574526\n",
      "15 150 0.9688888888888889\n",
      "15 150 0.9644444444444444\n",
      "15 150 0.9753929539295393\n",
      "15 150 0.9726829268292683\n",
      "15 150 0.9768021680216802\n",
      "15 150 0.9792953929539295\n",
      "15 150 0.9766937669376694\n",
      "15 150 0.9643360433604337\n",
      "15 150 0.9766937669376694\n",
      "15 150 0.9679132791327913\n",
      "15 150 0.9723577235772358\n",
      "15 150 0.9782113821138212\n",
      "15 150 0.9770189701897019\n",
      "15 150 0.9755013550135502\n",
      "15 150 0.9724661246612466\n",
      "15 150 0.9765853658536585\n",
      "15 150 0.9785365853658536\n",
      "15 150 0.9744173441734417\n"
     ]
    }
   ],
   "source": [
    "windowSize = 25\n",
    "PCsNum = 15\n",
    "ClusterNum = 150    \n",
    "HPCs,pca = applyPCA(HSI,numComponents=PCsNum)\n",
    "clusterstack = np.zeros(HPCs.shape)\n",
    "k_means = cluster.KMeans(n_clusters=ClusterNum, n_init=4).fit(HPCs.reshape((-1, HPCs.shape[2])))\n",
    "clusterlabel = k_means.labels_.reshape((GT.shape))\n",
    "for i in range(ClusterNum):\n",
    "    clusterstack[clusterlabel==i]=np.mean(HPCs[clusterlabel==i], axis=0)            \n",
    "X, y = createImageCubes(clusterstack, GT, windowSize=windowSize)\n",
    "Xtrain, Xtest, ytrain, ytest = train_test_split(X, y, test_size=test_ratio, random_state=345,stratify=y)\n",
    "ytrain = keras.utils.to_categorical(ytrain)\n",
    "\n",
    "## input layer\n",
    "IL = keras.Input(shape=(windowSize, windowSize, PCsNum), name='IL')\n",
    "C1 = keras.layers.Conv2D(filters=32, kernel_size=(5,5), activation='relu', name='C1')(IL)\n",
    "C2 = keras.layers.Conv2D(filters=32, kernel_size=(3,3), activation='relu', name='C2')(C1)        \n",
    "## flatten\n",
    "FL = keras.layers.Flatten(name='FL')(C2)        \n",
    "## fully connected layers\n",
    "D1 = keras.layers.Dense(units=256, activation='relu', name='D1')(FL)\n",
    "D1 = keras.layers.Dropout(0.4, name='dropout1')(D1)\n",
    "D2 = keras.layers.Dense(units=128, activation='relu', name='D2')(D1)\n",
    "D2 = keras.layers.Dropout(0.4, name='dropout2')(D2)\n",
    "OL = keras.layers.Dense(units=ytrain.shape[1], activation='softmax', name='OL')(D2)\n",
    "        \n",
    "model = keras.models.Model(inputs=IL, outputs=OL, name='2DCNN_FCs')\n",
    "        \n",
    "# compiling the model\n",
    "adam = keras.optimizers.Adam(lr=0.001, decay=1e-06)\n",
    "model.compile(loss='categorical_crossentropy', optimizer=adam, metrics=['accuracy'])\n",
    "\n",
    "for j in range(20):\n",
    "    model.fit(x=Xtrain, y=ytrain, batch_size=256, epochs=100, verbose=0)     \n",
    "    # predic\n",
    "    y_pred = np.argmax(model.predict(Xtest), axis=1)\n",
    "    oa = accuracy_score(ytest, y_pred)\n",
    "    print(PCsNum, ClusterNum, oa)"
   ]
  },
  {
   "cell_type": "code",
   "execution_count": 11,
   "metadata": {},
   "outputs": [
    {
     "name": "stdout",
     "output_type": "stream",
     "text": [
      "15 150 0.9755013550135502\n",
      "15 150 0.9772357723577236\n",
      "15 150 0.971490514905149\n",
      "15 150 0.9740921409214092\n",
      "15 150 0.9678048780487805\n",
      "15 150 0.9785365853658536\n",
      "15 150 0.9757181571815718\n",
      "15 150 0.9784281842818429\n",
      "15 150 0.9728997289972899\n",
      "15 150 0.9787533875338753\n",
      "15 150 0.9760433604336043\n",
      "15 150 0.9777777777777777\n",
      "15 150 0.9747425474254743\n",
      "15 150 0.9731165311653116\n",
      "15 150 0.978319783197832\n",
      "15 150 0.9753929539295393\n",
      "15 150 0.9725745257452575\n",
      "15 150 0.9771273712737127\n",
      "15 150 0.9758265582655826\n",
      "15 150 0.9662872628726287\n"
     ]
    }
   ],
   "source": [
    "windowSize = 25\n",
    "PCsNum = 15\n",
    "ClusterNum = 150    \n",
    "HPCs,pca = applyPCA(HSI,numComponents=PCsNum)\n",
    "clusterstack = np.zeros(HPCs.shape)\n",
    "k_means = cluster.KMeans(n_clusters=ClusterNum, n_init=4).fit(HPCs.reshape((-1, HPCs.shape[2])))\n",
    "clusterlabel = k_means.labels_.reshape((GT.shape))\n",
    "for i in range(ClusterNum):\n",
    "    clusterstack[clusterlabel==i]=np.mean(HPCs[clusterlabel==i], axis=0)            \n",
    "X, y = createImageCubes(clusterstack, GT, windowSize=windowSize)\n",
    "Xtrain, Xtest, ytrain, ytest = train_test_split(X, y, test_size=test_ratio, random_state=345,stratify=y)\n",
    "ytrain = keras.utils.to_categorical(ytrain)\n",
    "\n",
    "## input layer\n",
    "IL = keras.Input(shape=(windowSize, windowSize, PCsNum), name='IL')\n",
    "C1 = keras.layers.Conv2D(filters=32, kernel_size=(5,5), activation='relu', name='C1')(IL)\n",
    "C2 = keras.layers.Conv2D(filters=64, kernel_size=(3,3), activation='relu', name='C2')(C1)        \n",
    "## flatten\n",
    "FL = keras.layers.Flatten(name='FL')(C2)        \n",
    "## fully connected layers\n",
    "D1 = keras.layers.Dense(units=256, activation='relu', name='D1')(FL)\n",
    "D1 = keras.layers.Dropout(0.4, name='dropout1')(D1)\n",
    "D2 = keras.layers.Dense(units=128, activation='relu', name='D2')(D1)\n",
    "D2 = keras.layers.Dropout(0.4, name='dropout2')(D2)\n",
    "OL = keras.layers.Dense(units=ytrain.shape[1], activation='softmax', name='OL')(D2)\n",
    "        \n",
    "model = keras.models.Model(inputs=IL, outputs=OL, name='2DCNN_FCs')\n",
    "        \n",
    "# compiling the model\n",
    "adam = keras.optimizers.Adam(lr=0.001, decay=1e-06)\n",
    "model.compile(loss='categorical_crossentropy', optimizer=adam, metrics=['accuracy'])\n",
    "\n",
    "for j in range(20):\n",
    "    model.fit(x=Xtrain, y=ytrain, batch_size=256, epochs=100, verbose=0)     \n",
    "    # predic\n",
    "    y_pred = np.argmax(model.predict(Xtest), axis=1)\n",
    "    oa = accuracy_score(ytest, y_pred)\n",
    "    print(PCsNum, ClusterNum, oa)"
   ]
  },
  {
   "cell_type": "markdown",
   "metadata": {},
   "source": [
    "Multiple runs on New Clustering method:"
   ]
  },
  {
   "cell_type": "code",
   "execution_count": 3,
   "metadata": {},
   "outputs": [
    {
     "name": "stdout",
     "output_type": "stream",
     "text": [
      "15 150 0.9759349593495935\n",
      "15 150 0.9786449864498645\n",
      "15 150 0.9785365853658536\n",
      "15 150 0.9787533875338753\n",
      "15 150 0.9748509485094851\n",
      "15 150 0.9774525745257453\n",
      "15 150 0.9829810298102981\n",
      "15 150 0.9786449864498645\n",
      "15 150 0.9753929539295393\n",
      "15 150 0.9769105691056911\n",
      "15 150 0.9766937669376694\n",
      "15 150 0.9739837398373984\n",
      "15 150 0.9798373983739838\n",
      "15 150 0.9786449864498645\n",
      "15 150 0.9784281842818429\n",
      "15 150 0.9804878048780488\n",
      "15 150 0.9753929539295393\n",
      "15 150 0.9781029810298103\n",
      "15 150 0.981029810298103\n",
      "15 150 0.9658536585365853\n"
     ]
    }
   ],
   "source": [
    "windowSize = 25\n",
    "PCsNum = 15\n",
    "ClusterNum = 150    \n",
    "HPCs,pca = applyPCA(HSI,numComponents=PCsNum)\n",
    "clusterstack = np.zeros(HPCs.shape)\n",
    "k_means = cluster.KMeans(n_clusters=ClusterNum, n_init=4).fit(HSI.reshape((-1, HSI.shape[2])))\n",
    "clusterlabel = k_means.labels_.reshape((GT.shape))\n",
    "for i in range(ClusterNum):\n",
    "    clusterstack[clusterlabel==i]=np.mean(HPCs[clusterlabel==i], axis=0)        \n",
    "X, y = createImageCubes(clusterstack, GT, windowSize=windowSize)\n",
    "Xtrain, Xtest, ytrain, ytest = train_test_split(X, y, test_size=test_ratio, random_state=345,stratify=y)\n",
    "ytrain = keras.utils.to_categorical(ytrain)\n",
    "\n",
    "## input layer\n",
    "IL = keras.Input(shape=(windowSize, windowSize, PCsNum), name='IL')\n",
    "C1 = keras.layers.Conv2D(filters=64, kernel_size=(5,5), activation='relu', name='C1')(IL)\n",
    "C2 = keras.layers.Conv2D(filters=64, kernel_size=(3,3), activation='relu', name='C2')(C1)        \n",
    "## flatten\n",
    "FL = keras.layers.Flatten(name='FL')(C2)        \n",
    "## fully connected layers\n",
    "D1 = keras.layers.Dense(units=256, activation='relu', name='D1')(FL)\n",
    "D1 = keras.layers.Dropout(0.4, name='dropout1')(D1)\n",
    "D2 = keras.layers.Dense(units=128, activation='relu', name='D2')(D1)\n",
    "D2 = keras.layers.Dropout(0.4, name='dropout2')(D2)\n",
    "OL = keras.layers.Dense(units=ytrain.shape[1], activation='softmax', name='OL')(D2)\n",
    "        \n",
    "model = keras.models.Model(inputs=IL, outputs=OL, name='2DCNN_FCs')\n",
    "        \n",
    "# compiling the model\n",
    "adam = keras.optimizers.Adam(lr=0.001, decay=1e-06)\n",
    "model.compile(loss='categorical_crossentropy', optimizer=adam, metrics=['accuracy'])\n",
    "\n",
    "for j in range(20):\n",
    "    model.fit(x=Xtrain, y=ytrain, batch_size=256, epochs=100, verbose=0)     \n",
    "    # predic\n",
    "    y_pred = np.argmax(model.predict(Xtest), axis=1)\n",
    "    oa = accuracy_score(ytest, y_pred)\n",
    "    print(PCsNum, ClusterNum, oa)"
   ]
  },
  {
   "cell_type": "code",
   "execution_count": null,
   "metadata": {},
   "outputs": [],
   "source": []
  }
 ],
 "metadata": {
  "file_extension": ".py",
  "kernelspec": {
   "display_name": "Python 3",
   "language": "python",
   "name": "python3"
  },
  "language_info": {
   "codemirror_mode": {
    "name": "ipython",
    "version": 3
   },
   "file_extension": ".py",
   "mimetype": "text/x-python",
   "name": "python",
   "nbconvert_exporter": "python",
   "pygments_lexer": "ipython3",
   "version": "3.7.4"
  },
  "mimetype": "text/x-python",
  "name": "python",
  "npconvert_exporter": "python",
  "pygments_lexer": "ipython3",
  "toc-autonumbering": true,
  "toc-showcode": true,
  "toc-showmarkdowntxt": false,
  "version": 3
 },
 "nbformat": 4,
 "nbformat_minor": 4
}
